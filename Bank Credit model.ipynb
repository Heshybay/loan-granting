{
 "cells": [
  {
   "cell_type": "markdown",
   "id": "ad453ba6",
   "metadata": {},
   "source": [
    "## Loan Granting Project"
   ]
  },
  {
   "cell_type": "code",
   "execution_count": 1,
   "id": "bef589bc",
   "metadata": {},
   "outputs": [],
   "source": [
    "# Importation of required Libraries\n",
    "import pandas as pd\n",
    "import numpy as np\n",
    "import matplotlib.pyplot as plt\n",
    "import seaborn as sns\n",
    "import pickle\n",
    "from datetime import date\n",
    "from datetime import datetime\n",
    "pd.set_option(\"max_columns\", 200)\n",
    "pd.set_option(\"max_rows\", 100)\n",
    "plt.style.use(\"ggplot\")\n",
    "\n",
    "\n",
    "# Preprocessing\n",
    "from sklearn import preprocessing\n",
    "from sklearn.preprocessing import StandardScaler, MinMaxScaler\n",
    "from sklearn.preprocessing import LabelEncoder, OneHotEncoder\n",
    "\n",
    "# To build linear model for statistical analysis and prediction\n",
    "import statsmodels.stats.api as sms\n",
    "from statsmodels.stats.outliers_influence import variance_inflation_factor\n",
    "import statsmodels.api as sm\n",
    "from statsmodels.tools.tools import add_constant\n",
    "\n",
    "# Models\n",
    "from sklearn.linear_model import LogisticRegression\n",
    "from sklearn.discriminant_analysis import LinearDiscriminantAnalysis\n",
    "from sklearn.tree import DecisionTreeClassifier\n",
    "from sklearn.neighbors import KNeighborsClassifier\n",
    "from sklearn.ensemble import RandomForestClassifier, AdaBoostClassifier, GradientBoostingClassifier, ExtraTreesClassifier\n",
    "\n",
    "# Metrics\n",
    "from sklearn.metrics import confusion_matrix, classification_report, roc_auc_score, roc_curve, accuracy_score, f1_score\n",
    "from sklearn.metrics import mean_squared_error\n",
    "\n",
    "# Feature Selection\n",
    "from sklearn.feature_selection import SelectKBest\n",
    "from sklearn.model_selection import KFold\n",
    "from sklearn.model_selection import cross_val_score, GridSearchCV\n",
    "\n",
    "# Warnings\n",
    "import warnings as ws\n",
    "ws.filterwarnings('ignore')"
   ]
  },
  {
   "cell_type": "code",
   "execution_count": 2,
   "id": "adb194cf",
   "metadata": {},
   "outputs": [],
   "source": [
    "## Loading the Borrower and loan tables as dataframes\n",
    "borrower = pd.read_csv(\"C:/Users/ESHO/Documents/Data Science Mentorship/Projects/borrower_table.csv\")\n",
    "loan = pd.read_csv(\"C:/Users/ESHO/Documents/Data Science Mentorship/Projects/loan_table.csv\")"
   ]
  },
  {
   "cell_type": "code",
   "execution_count": null,
   "id": "297a2cf2",
   "metadata": {},
   "outputs": [],
   "source": [
    "# Checking that shape for the borrowers information\n",
    "print(\"Detail of borrowers' dataset:\", borrower.shape)\n",
    "\n",
    "# Checking that shape for the loan information\n",
    "print(\"Detail of Loans' dataset:\", loan.shape)"
   ]
  },
  {
   "cell_type": "markdown",
   "id": "97646d90",
   "metadata": {},
   "source": [
    "* The dataset with borrowers information has 101100 rows and 12 columns\n",
    "* The dataset with general information on the loan has 101100 rows and 5 columns\n",
    "* The two datasets have the same number of records, that is 101100 Customers' records"
   ]
  },
  {
   "cell_type": "code",
   "execution_count": 3,
   "id": "f56d9142",
   "metadata": {},
   "outputs": [],
   "source": [
    "## Merge the Borrower and Loan datasets using loan_id.\n",
    "credit_data = pd.merge(borrower, loan, how = \"left\", on = \"loan_id\")"
   ]
  },
  {
   "cell_type": "code",
   "execution_count": null,
   "id": "582a11cf",
   "metadata": {},
   "outputs": [],
   "source": [
    "#Checking the shape of the dataset\n",
    "print(\"Merged tables' details:\", credit_data.shape)"
   ]
  },
  {
   "cell_type": "markdown",
   "id": "695bffa7",
   "metadata": {},
   "source": [
    "* The datasets were merged correctly; 101100 rows and 16 columns as expected"
   ]
  },
  {
   "cell_type": "code",
   "execution_count": null,
   "id": "2e59eb93",
   "metadata": {},
   "outputs": [],
   "source": [
    "#Checking for any repeated customers' record in the merged dataset using loan_id\n",
    "unique_counts = credit_data[\"loan_id\"].nunique()\n",
    "unique_counts"
   ]
  },
  {
   "cell_type": "markdown",
   "id": "e7c35b46",
   "metadata": {},
   "source": [
    "* There was no repeated customers'records with the same loan_id in the merged dataset"
   ]
  },
  {
   "cell_type": "code",
   "execution_count": null,
   "id": "ed9a31e1",
   "metadata": {},
   "outputs": [],
   "source": [
    "#Checking the first and the last 10 records in the dataset\n",
    "credit_data.head(10)"
   ]
  },
  {
   "cell_type": "code",
   "execution_count": null,
   "id": "d3d2ebdb",
   "metadata": {},
   "outputs": [],
   "source": [
    "credit_data.tail(10)"
   ]
  },
  {
   "cell_type": "code",
   "execution_count": null,
   "id": "3b4c8de5",
   "metadata": {},
   "outputs": [],
   "source": [
    "#Checking data type of the features\n",
    "credit_data.dtypes"
   ]
  },
  {
   "cell_type": "markdown",
   "id": "fafd2879",
   "metadata": {},
   "source": [
    "From the features in the dataset, there are:\n",
    "* 7 are categorical data type\n",
    "* 7 are interger data type\n",
    "* 1 is float\n",
    "* 1 is date type"
   ]
  },
  {
   "cell_type": "markdown",
   "id": "8c6a355e",
   "metadata": {},
   "source": [
    "## Data Preparation"
   ]
  },
  {
   "cell_type": "code",
   "execution_count": null,
   "id": "5694fc89",
   "metadata": {},
   "outputs": [],
   "source": [
    "## Check for missing values in the dataset\n",
    "\n",
    "# % of missing data\n",
    "print('{0:48} {1:22} {2:10}' .format(\"Features\", \"Number Missing Data\", \"Percentage\"))\n",
    "for col in credit_data.columns:\n",
    "    missing_value = credit_data[col].isnull().sum()\n",
    "    missing_pcent = np.mean(credit_data[col].isnull())\n",
    "    print('{0:48} {1:10d} {2:17d}' .format(col, missing_value, round(missing_pcent*100)))"
   ]
  },
  {
   "cell_type": "markdown",
   "id": "38a332b0",
   "metadata": {},
   "source": [
    "### Missing Data\n",
    "* Out of the 16 features in the dataset, four have missing data.\n",
    "* 54,947 missing values in fully_repaid_previous_loan and currently_repaying_other_loans due to the customers' first time loan requests\n",
    "* 53,446 missing values in loan_repaid due to loan request not granted\n",
    "* 6,972 missing value in average_percentage_credit_card_limit_used_last_year, this may be due to entry error or omission. "
   ]
  },
  {
   "cell_type": "code",
   "execution_count": null,
   "id": "bb1744db",
   "metadata": {},
   "outputs": [],
   "source": [
    "#Checking the unique values in the columns with missing data to determine the contents of the features\n",
    "print('Unique values in fully repaid previous loans column:',credit_data.fully_repaid_previous_loans.unique())\n",
    "print(\" \")\n",
    "print('Unique values in repaid loans column:', credit_data.loan_repaid.unique())\n",
    "print(\" \")\n",
    "print('Unique values in currently repaying other loans column:', credit_data.currently_repaying_other_loans.unique())\n",
    "print(\" \")\n",
    "print('Unique values in average % credit limit column:')\n",
    "print(np.sort( credit_data.avg_percentage_credit_card_limit_used_last_year.unique()))"
   ]
  },
  {
   "cell_type": "code",
   "execution_count": null,
   "id": "d3909e20",
   "metadata": {},
   "outputs": [],
   "source": [
    "# Check for duplicate entries in the dataset\n",
    "credit_data.loc[credit_data.duplicated(subset=[\"yearly_salary\",\"date\", \"loan_purpose\",\n",
    "            \"saving_amount\", \"checking_amount\"])] ## 5 features were used to check if two records were in anyway the same"
   ]
  },
  {
   "cell_type": "markdown",
   "id": "7ba38fce",
   "metadata": {},
   "source": [
    "* There were no duplicate records in the merged dataset"
   ]
  },
  {
   "cell_type": "code",
   "execution_count": 4,
   "id": "258f7124",
   "metadata": {},
   "outputs": [],
   "source": [
    "## Remane some columns to make them tidy\n",
    "credit_data.rename(columns={'fully_repaid_previous_loans':'FRP_Loans', 'currently_repaying_other_loans': 'CRO_Loans',\n",
    "                            'total_credit_card_limit':'TCC_Limit','avg_percentage_credit_card_limit_used_last_year':\"Avg_CCL\"},\n",
    "                               inplace=True)"
   ]
  },
  {
   "cell_type": "markdown",
   "id": "a94a77a1",
   "metadata": {},
   "source": [
    "## Keys for renamed columns\n",
    "* Fully_repaid_previous_loans: FRP_Loans\n",
    "* Currently_repaying_other_loans: CRO_Loans\n",
    "* Total_credit_card_limit: TCC_Limit\n",
    "* Avg_percentage_credit_card_limit_used_last_year: Avg_CCL"
   ]
  },
  {
   "cell_type": "code",
   "execution_count": 5,
   "id": "8c527fec",
   "metadata": {},
   "outputs": [],
   "source": [
    "## Missing Data Treatment\n",
    "## Missing values replacement in credit_data2 dataset\n",
    "credit_data[\"FRP_Loans\"].replace(np.nan, 2, inplace=True) #2 for NA representing Customer is borrowing for the first time\n",
    "credit_data[\"loan_repaid\"].replace(np.nan,2, inplace=True) #2 for NA representing loan request was not granted  \n",
    "credit_data[\"CRO_Loans\"].replace(np.nan, 2, inplace=True)  #2 for NA representing the loan is the first loan\n",
    "\n",
    "# Drop the observations whose average percentage credit card limits were missing, reset index, and drop index column\n",
    "credit_data = credit_data.dropna(axis=0).reset_index(drop=True)"
   ]
  },
  {
   "cell_type": "code",
   "execution_count": 6,
   "id": "1e47dbc6",
   "metadata": {},
   "outputs": [],
   "source": [
    "## Format the date column\n",
    "credit_data['date'] = pd.to_datetime(credit_data['date'], format='%Y-%m-%d')"
   ]
  },
  {
   "cell_type": "code",
   "execution_count": 7,
   "id": "db78c4c1",
   "metadata": {
    "scrolled": true
   },
   "outputs": [],
   "source": [
    "## Converting the data type of categorical features to 'category'\n",
    "cat_cols = [\"is_first_loan\", \"FRP_Loans\", \"CRO_Loans\", \"is_employed\", \"loan_purpose\", \"loan_granted\", \"loan_repaid\"]\n",
    "credit_data[cat_cols] = credit_data[cat_cols].astype('category')"
   ]
  },
  {
   "cell_type": "code",
   "execution_count": 8,
   "id": "9cca320e",
   "metadata": {},
   "outputs": [],
   "source": [
    "## Feature Extraction\n",
    "### Function to extract details from loan request Date\n",
    "d = []\n",
    "m = []\n",
    "wd = []\n",
    "        \n",
    "def loan_request_date(date):\n",
    "    for dates in date:\n",
    "        day = round(datetime.date(dates).day)\n",
    "        d.append(day)\n",
    "        month = dates.month\n",
    "        m.append(month)\n",
    "        weekday = dates.weekday()\n",
    "        wd.append(weekday)\n",
    "    \n",
    "    credit_data[\"day\"] = pd.DataFrame(d)\n",
    "    credit_data[\"month\"] = pd.DataFrame(m)\n",
    "    credit_data[\"weekday\"] = pd.DataFrame(wd)\n",
    "      \n",
    "    return credit_data       "
   ]
  },
  {
   "cell_type": "code",
   "execution_count": 9,
   "id": "911db5c3",
   "metadata": {},
   "outputs": [
    {
     "data": {
      "text/html": [
       "<div>\n",
       "<style scoped>\n",
       "    .dataframe tbody tr th:only-of-type {\n",
       "        vertical-align: middle;\n",
       "    }\n",
       "\n",
       "    .dataframe tbody tr th {\n",
       "        vertical-align: top;\n",
       "    }\n",
       "\n",
       "    .dataframe thead th {\n",
       "        text-align: right;\n",
       "    }\n",
       "</style>\n",
       "<table border=\"1\" class=\"dataframe\">\n",
       "  <thead>\n",
       "    <tr style=\"text-align: right;\">\n",
       "      <th></th>\n",
       "      <th>loan_id</th>\n",
       "      <th>is_first_loan</th>\n",
       "      <th>FRP_Loans</th>\n",
       "      <th>CRO_Loans</th>\n",
       "      <th>TCC_Limit</th>\n",
       "      <th>Avg_CCL</th>\n",
       "      <th>saving_amount</th>\n",
       "      <th>checking_amount</th>\n",
       "      <th>is_employed</th>\n",
       "      <th>yearly_salary</th>\n",
       "      <th>age</th>\n",
       "      <th>dependent_number</th>\n",
       "      <th>loan_purpose</th>\n",
       "      <th>date</th>\n",
       "      <th>loan_granted</th>\n",
       "      <th>loan_repaid</th>\n",
       "      <th>day</th>\n",
       "      <th>month</th>\n",
       "      <th>weekday</th>\n",
       "    </tr>\n",
       "  </thead>\n",
       "  <tbody>\n",
       "    <tr>\n",
       "      <th>0</th>\n",
       "      <td>289774</td>\n",
       "      <td>1</td>\n",
       "      <td>2.0</td>\n",
       "      <td>2.0</td>\n",
       "      <td>8000</td>\n",
       "      <td>0.49</td>\n",
       "      <td>3285</td>\n",
       "      <td>1073</td>\n",
       "      <td>0</td>\n",
       "      <td>0</td>\n",
       "      <td>47</td>\n",
       "      <td>3</td>\n",
       "      <td>business</td>\n",
       "      <td>2012-01-31</td>\n",
       "      <td>0</td>\n",
       "      <td>2.0</td>\n",
       "      <td>31</td>\n",
       "      <td>1</td>\n",
       "      <td>1</td>\n",
       "    </tr>\n",
       "    <tr>\n",
       "      <th>1</th>\n",
       "      <td>482590</td>\n",
       "      <td>0</td>\n",
       "      <td>1.0</td>\n",
       "      <td>0.0</td>\n",
       "      <td>4500</td>\n",
       "      <td>1.03</td>\n",
       "      <td>636</td>\n",
       "      <td>5299</td>\n",
       "      <td>1</td>\n",
       "      <td>13500</td>\n",
       "      <td>33</td>\n",
       "      <td>1</td>\n",
       "      <td>investment</td>\n",
       "      <td>2012-11-02</td>\n",
       "      <td>0</td>\n",
       "      <td>2.0</td>\n",
       "      <td>2</td>\n",
       "      <td>11</td>\n",
       "      <td>4</td>\n",
       "    </tr>\n",
       "    <tr>\n",
       "      <th>2</th>\n",
       "      <td>135565</td>\n",
       "      <td>1</td>\n",
       "      <td>2.0</td>\n",
       "      <td>2.0</td>\n",
       "      <td>6900</td>\n",
       "      <td>0.82</td>\n",
       "      <td>2085</td>\n",
       "      <td>3422</td>\n",
       "      <td>1</td>\n",
       "      <td>24500</td>\n",
       "      <td>38</td>\n",
       "      <td>8</td>\n",
       "      <td>other</td>\n",
       "      <td>2012-07-16</td>\n",
       "      <td>1</td>\n",
       "      <td>1.0</td>\n",
       "      <td>16</td>\n",
       "      <td>7</td>\n",
       "      <td>0</td>\n",
       "    </tr>\n",
       "    <tr>\n",
       "      <th>3</th>\n",
       "      <td>207797</td>\n",
       "      <td>0</td>\n",
       "      <td>1.0</td>\n",
       "      <td>0.0</td>\n",
       "      <td>1200</td>\n",
       "      <td>0.82</td>\n",
       "      <td>358</td>\n",
       "      <td>3388</td>\n",
       "      <td>0</td>\n",
       "      <td>0</td>\n",
       "      <td>24</td>\n",
       "      <td>1</td>\n",
       "      <td>investment</td>\n",
       "      <td>2012-06-05</td>\n",
       "      <td>0</td>\n",
       "      <td>2.0</td>\n",
       "      <td>5</td>\n",
       "      <td>6</td>\n",
       "      <td>1</td>\n",
       "    </tr>\n",
       "    <tr>\n",
       "      <th>4</th>\n",
       "      <td>828078</td>\n",
       "      <td>0</td>\n",
       "      <td>0.0</td>\n",
       "      <td>0.0</td>\n",
       "      <td>6900</td>\n",
       "      <td>0.80</td>\n",
       "      <td>2138</td>\n",
       "      <td>4282</td>\n",
       "      <td>1</td>\n",
       "      <td>18100</td>\n",
       "      <td>36</td>\n",
       "      <td>1</td>\n",
       "      <td>emergency_funds</td>\n",
       "      <td>2012-11-28</td>\n",
       "      <td>0</td>\n",
       "      <td>2.0</td>\n",
       "      <td>28</td>\n",
       "      <td>11</td>\n",
       "      <td>2</td>\n",
       "    </tr>\n",
       "    <tr>\n",
       "      <th>...</th>\n",
       "      <td>...</td>\n",
       "      <td>...</td>\n",
       "      <td>...</td>\n",
       "      <td>...</td>\n",
       "      <td>...</td>\n",
       "      <td>...</td>\n",
       "      <td>...</td>\n",
       "      <td>...</td>\n",
       "      <td>...</td>\n",
       "      <td>...</td>\n",
       "      <td>...</td>\n",
       "      <td>...</td>\n",
       "      <td>...</td>\n",
       "      <td>...</td>\n",
       "      <td>...</td>\n",
       "      <td>...</td>\n",
       "      <td>...</td>\n",
       "      <td>...</td>\n",
       "      <td>...</td>\n",
       "    </tr>\n",
       "    <tr>\n",
       "      <th>94123</th>\n",
       "      <td>38238</td>\n",
       "      <td>1</td>\n",
       "      <td>2.0</td>\n",
       "      <td>2.0</td>\n",
       "      <td>2200</td>\n",
       "      <td>0.83</td>\n",
       "      <td>1295</td>\n",
       "      <td>2240</td>\n",
       "      <td>0</td>\n",
       "      <td>0</td>\n",
       "      <td>47</td>\n",
       "      <td>2</td>\n",
       "      <td>other</td>\n",
       "      <td>2012-12-24</td>\n",
       "      <td>0</td>\n",
       "      <td>2.0</td>\n",
       "      <td>24</td>\n",
       "      <td>12</td>\n",
       "      <td>0</td>\n",
       "    </tr>\n",
       "    <tr>\n",
       "      <th>94124</th>\n",
       "      <td>590712</td>\n",
       "      <td>1</td>\n",
       "      <td>2.0</td>\n",
       "      <td>2.0</td>\n",
       "      <td>3800</td>\n",
       "      <td>0.70</td>\n",
       "      <td>340</td>\n",
       "      <td>3802</td>\n",
       "      <td>1</td>\n",
       "      <td>36100</td>\n",
       "      <td>41</td>\n",
       "      <td>7</td>\n",
       "      <td>business</td>\n",
       "      <td>2012-05-17</td>\n",
       "      <td>1</td>\n",
       "      <td>1.0</td>\n",
       "      <td>17</td>\n",
       "      <td>5</td>\n",
       "      <td>3</td>\n",
       "    </tr>\n",
       "    <tr>\n",
       "      <th>94125</th>\n",
       "      <td>961276</td>\n",
       "      <td>1</td>\n",
       "      <td>2.0</td>\n",
       "      <td>2.0</td>\n",
       "      <td>1600</td>\n",
       "      <td>1.06</td>\n",
       "      <td>445</td>\n",
       "      <td>1757</td>\n",
       "      <td>1</td>\n",
       "      <td>40800</td>\n",
       "      <td>71</td>\n",
       "      <td>3</td>\n",
       "      <td>other</td>\n",
       "      <td>2012-09-07</td>\n",
       "      <td>0</td>\n",
       "      <td>2.0</td>\n",
       "      <td>7</td>\n",
       "      <td>9</td>\n",
       "      <td>4</td>\n",
       "    </tr>\n",
       "    <tr>\n",
       "      <th>94126</th>\n",
       "      <td>551027</td>\n",
       "      <td>0</td>\n",
       "      <td>1.0</td>\n",
       "      <td>0.0</td>\n",
       "      <td>7000</td>\n",
       "      <td>0.82</td>\n",
       "      <td>354</td>\n",
       "      <td>1435</td>\n",
       "      <td>1</td>\n",
       "      <td>41900</td>\n",
       "      <td>44</td>\n",
       "      <td>2</td>\n",
       "      <td>investment</td>\n",
       "      <td>2012-08-23</td>\n",
       "      <td>1</td>\n",
       "      <td>0.0</td>\n",
       "      <td>23</td>\n",
       "      <td>8</td>\n",
       "      <td>3</td>\n",
       "    </tr>\n",
       "    <tr>\n",
       "      <th>94127</th>\n",
       "      <td>761999</td>\n",
       "      <td>1</td>\n",
       "      <td>2.0</td>\n",
       "      <td>2.0</td>\n",
       "      <td>2300</td>\n",
       "      <td>0.47</td>\n",
       "      <td>2999</td>\n",
       "      <td>4420</td>\n",
       "      <td>1</td>\n",
       "      <td>44200</td>\n",
       "      <td>36</td>\n",
       "      <td>7</td>\n",
       "      <td>home</td>\n",
       "      <td>2012-06-20</td>\n",
       "      <td>1</td>\n",
       "      <td>1.0</td>\n",
       "      <td>20</td>\n",
       "      <td>6</td>\n",
       "      <td>2</td>\n",
       "    </tr>\n",
       "  </tbody>\n",
       "</table>\n",
       "<p>94128 rows × 19 columns</p>\n",
       "</div>"
      ],
      "text/plain": [
       "       loan_id is_first_loan FRP_Loans CRO_Loans  TCC_Limit  Avg_CCL  \\\n",
       "0       289774             1       2.0       2.0       8000     0.49   \n",
       "1       482590             0       1.0       0.0       4500     1.03   \n",
       "2       135565             1       2.0       2.0       6900     0.82   \n",
       "3       207797             0       1.0       0.0       1200     0.82   \n",
       "4       828078             0       0.0       0.0       6900     0.80   \n",
       "...        ...           ...       ...       ...        ...      ...   \n",
       "94123    38238             1       2.0       2.0       2200     0.83   \n",
       "94124   590712             1       2.0       2.0       3800     0.70   \n",
       "94125   961276             1       2.0       2.0       1600     1.06   \n",
       "94126   551027             0       1.0       0.0       7000     0.82   \n",
       "94127   761999             1       2.0       2.0       2300     0.47   \n",
       "\n",
       "       saving_amount  checking_amount is_employed  yearly_salary  age  \\\n",
       "0               3285             1073           0              0   47   \n",
       "1                636             5299           1          13500   33   \n",
       "2               2085             3422           1          24500   38   \n",
       "3                358             3388           0              0   24   \n",
       "4               2138             4282           1          18100   36   \n",
       "...              ...              ...         ...            ...  ...   \n",
       "94123           1295             2240           0              0   47   \n",
       "94124            340             3802           1          36100   41   \n",
       "94125            445             1757           1          40800   71   \n",
       "94126            354             1435           1          41900   44   \n",
       "94127           2999             4420           1          44200   36   \n",
       "\n",
       "       dependent_number     loan_purpose       date loan_granted loan_repaid  \\\n",
       "0                     3         business 2012-01-31            0         2.0   \n",
       "1                     1       investment 2012-11-02            0         2.0   \n",
       "2                     8            other 2012-07-16            1         1.0   \n",
       "3                     1       investment 2012-06-05            0         2.0   \n",
       "4                     1  emergency_funds 2012-11-28            0         2.0   \n",
       "...                 ...              ...        ...          ...         ...   \n",
       "94123                 2            other 2012-12-24            0         2.0   \n",
       "94124                 7         business 2012-05-17            1         1.0   \n",
       "94125                 3            other 2012-09-07            0         2.0   \n",
       "94126                 2       investment 2012-08-23            1         0.0   \n",
       "94127                 7             home 2012-06-20            1         1.0   \n",
       "\n",
       "       day  month  weekday  \n",
       "0       31      1        1  \n",
       "1        2     11        4  \n",
       "2       16      7        0  \n",
       "3        5      6        1  \n",
       "4       28     11        2  \n",
       "...    ...    ...      ...  \n",
       "94123   24     12        0  \n",
       "94124   17      5        3  \n",
       "94125    7      9        4  \n",
       "94126   23      8        3  \n",
       "94127   20      6        2  \n",
       "\n",
       "[94128 rows x 19 columns]"
      ]
     },
     "execution_count": 9,
     "metadata": {},
     "output_type": "execute_result"
    }
   ],
   "source": [
    "#Extracting useful details from the date column \n",
    "loan_request_date(credit_data[\"date\"])"
   ]
  },
  {
   "cell_type": "markdown",
   "id": "d324a348",
   "metadata": {},
   "source": [
    "### Exploratory Data Analysis"
   ]
  },
  {
   "cell_type": "code",
   "execution_count": null,
   "id": "4712551c",
   "metadata": {},
   "outputs": [],
   "source": [
    "#Summary statistics for the 8 numerical columns\n",
    "credit_data.describe().T"
   ]
  },
  {
   "cell_type": "markdown",
   "id": "e192ad1c",
   "metadata": {},
   "source": [
    "* Total credit card limit (tcc_limit): The average credit card limit for customers is well above 4300 (median) which is max\n",
    "    limit for half of the bank's customers. 75% of the customers have monthly credit card limits below 5700 and the gap\n",
    "    between the meam and the median showed that the variable is skewed and suggested the presence of some outliers\n",
    "* Average percentage credit card limit used last year(avg_ccl): The average credit card limit used last was 72%, while the max\n",
    "    was 109%\n",
    "* Savings amount: Customers'savings account balance ranges between 0 and 10641 with customers average balance of about 1837.53\n",
    "    when the balances of 50% of the customers are below 1,369 that shows an evidence of some outliers in the dataset\n",
    "* Checking Amount: Customers'current account balances are between zero and 13906 with the average balance of 3235.06\n",
    "    The balances of 50% of the customers are below 2725, also the huge difference between the balances of 75% of the\n",
    "    customers and the maximum balance indicated that there were outliers in the dataset.\n",
    "* Yearly salary: The average salary earned annually by the customers is 21503.15 Customers salary range is between 0 and\n",
    "    97200 indicating that some customers are either retired or not employed. There are outliers going by the distribution of\n",
    "    the dataset.\n",
    "* Age: The average age of the bank customers is 41years.The youngest customers are 18year and oldest are 79year. Most customers\n",
    "    are below 50years old.\n",
    "* Dependent Number: The average household size is about 4 with the maximum number of dependants as 8"
   ]
  },
  {
   "cell_type": "code",
   "execution_count": null,
   "id": "1ff127bc",
   "metadata": {},
   "outputs": [],
   "source": [
    "#Summary of the Categorical columns of the data set    \n",
    "cat_cols = [\"is_first_loan\", \"FRP_Loans\", \"CRO_Loans\", \"is_employed\", \"loan_purpose\", \"loan_granted\", \"loan_repaid\"]\n",
    "\n",
    "for i in cat_cols:\n",
    "    print('Unique values in',i, 'are :')\n",
    "    print(credit_data[i].value_counts().sort_index())\n",
    "    print()\n",
    "    print(credit_data[i].value_counts(1).sort_index() * 100)\n",
    "    print('*'*50)"
   ]
  },
  {
   "cell_type": "markdown",
   "id": "b328875c",
   "metadata": {},
   "source": [
    "* First Loan: Most of the customers in the dataset (51,121) are  applying for loans for the first time\n",
    "* Fully repaid previous loans: Most of the customers who had old loans fully repaid on time only 4291 defaulted\n",
    "* Currently repaying other loans: Only 15,170 customers are currently repaying other loans\n",
    "* Employment Status: Two quarter of the customers are employed\n",
    "* Loan Purpose: Most loan requests were home loans, followed by Business and investment\n",
    "* Loan Granted: Most customers loan requests were denied. Only 49.7 percent of requests were granted.\n",
    "* Loan Repayment: About 65 percent of the customers who were offered loans repaid their loan.\n",
    "* Loan requests submission are mostly done between mondays and thursdays"
   ]
  },
  {
   "cell_type": "markdown",
   "id": "243e94af",
   "metadata": {},
   "source": [
    "## Univariate Analysis\n",
    "\n",
    "### Univariate analysis of numerical variables"
   ]
  },
  {
   "cell_type": "code",
   "execution_count": null,
   "id": "38225327",
   "metadata": {},
   "outputs": [],
   "source": [
    "# This function takes the numerical column as the input and returns the boxplots and histograms for the variable.\n",
    "\n",
    "def histogram_boxplot(feature, figsize=(15,10), bins = None):\n",
    "    \"\"\" Boxplot and histogram combined\n",
    "    feature: 1-d feature array\n",
    "    figsize: size of fig (default (9,8))\n",
    "    bins: number of bins (default None / auto)\n",
    "    \"\"\"\n",
    "    f2, (ax_box2, ax_hist2) = plt.subplots(nrows = 2, # Number of rows of the subplot grid= 2\n",
    "                                           sharex = True, # x-axis will be shared among all subplots\n",
    "                                           gridspec_kw = {\"height_ratios\": (.25, .75)}, \n",
    "                                           figsize = figsize \n",
    "                                           ) # creating the 2 subplots\n",
    "    sns.boxplot(feature, ax=ax_box2, showmeans=True, color='violet') # boxplot will be created and a star will indicate the mean value of the column\n",
    "    sns.distplot(feature, kde=F, ax=ax_hist2, bins=bins,color = 'orange')\\\n",
    "    if bins else sns.distplot(feature, kde=False, ax=ax_hist2,color='tab:cyan') # For histogram\n",
    "    ax_hist2.axvline(np.mean(feature), color='purple', linestyle='--') # Add mean to the histogram\n",
    "    ax_hist2.axvline(np.median(feature), color='black', linestyle='-') # Add median to the histogram"
   ]
  },
  {
   "cell_type": "markdown",
   "id": "4f53622e",
   "metadata": {},
   "source": [
    "### Analysis of Savings Account Balances"
   ]
  },
  {
   "cell_type": "code",
   "execution_count": null,
   "id": "f25cd867",
   "metadata": {},
   "outputs": [],
   "source": [
    "histogram_boxplot(credit_data['saving_amount'])"
   ]
  },
  {
   "cell_type": "markdown",
   "id": "087b1b06",
   "metadata": {},
   "source": [
    "* The distribution of saving amount is positively skewed and boxplot indicates a huge presence of outliers in the variable\n",
    "* The median and mean of the saving amount are different\n",
    "* 50% of the customers saving account balances were below 1400"
   ]
  },
  {
   "cell_type": "markdown",
   "id": "a9d9f5a9",
   "metadata": {},
   "source": [
    "### Analysis of Checking Account Balances"
   ]
  },
  {
   "cell_type": "code",
   "execution_count": null,
   "id": "6a3b5a22",
   "metadata": {},
   "outputs": [],
   "source": [
    "histogram_boxplot(credit_data[\"checking_amount\"])"
   ]
  },
  {
   "cell_type": "markdown",
   "id": "abe423cc",
   "metadata": {},
   "source": [
    "* The distribution of the customers checking account balance as at the point of loan request is positively skewed and the\n",
    "    boxplot indicates a huge presence outliers\n",
    "* The median is lower than the mean, showing that the distribution is skewed and the confirmation that there are outliers in\n",
    "    the variable\n",
    "* 50% of the customers have less than 3000 balance in their current account"
   ]
  },
  {
   "cell_type": "markdown",
   "id": "86882f3e",
   "metadata": {},
   "source": [
    "### Analysis of Total Credit Card Limit"
   ]
  },
  {
   "cell_type": "code",
   "execution_count": null,
   "id": "23601cf2",
   "metadata": {},
   "outputs": [],
   "source": [
    "histogram_boxplot(credit_data[\"TCC_Limit\"])"
   ]
  },
  {
   "cell_type": "markdown",
   "id": "04a44698",
   "metadata": {},
   "source": [
    "* The distribution of the customers credit card limit is somewhat symmetrical but boxplot indicated presence of outliers\n",
    "* The median and mean of limit are within the same range of 4300 confirming the symmetrical distribution of the variable\n",
    "* Most customers' monthly credit card limits are below 8000 "
   ]
  },
  {
   "cell_type": "markdown",
   "id": "56667930",
   "metadata": {},
   "source": [
    "### Analysis of Yearly Salary"
   ]
  },
  {
   "cell_type": "code",
   "execution_count": null,
   "id": "3398ab0b",
   "metadata": {},
   "outputs": [],
   "source": [
    "histogram_boxplot(credit_data[\"yearly_salary\"])"
   ]
  },
  {
   "cell_type": "markdown",
   "id": "5c469870",
   "metadata": {},
   "source": [
    "* The distribution of the customers yearly salary is somewhat symmetrical but boxplot indicates presence of few outliers\n",
    "* Customers median and mean of the customers yearly salary are within the same range of 21,500\n",
    "* About 33,000 customers are not currently employed or earning any income"
   ]
  },
  {
   "cell_type": "markdown",
   "id": "c232f92f",
   "metadata": {},
   "source": [
    "### Analysis of Customers Age"
   ]
  },
  {
   "cell_type": "code",
   "execution_count": null,
   "id": "255bcf0a",
   "metadata": {
    "scrolled": false
   },
   "outputs": [],
   "source": [
    "histogram_boxplot(credit_data[\"age\"]) "
   ]
  },
  {
   "cell_type": "markdown",
   "id": "7aac5465",
   "metadata": {},
   "source": [
    "* The distribution of the customers age is somewhat symmetrical but boxplot indicates some outliers\n",
    "* The median and mean of the customers' age are within the same range of 41, showing that 50% of the customers are below 41 years\n",
    "* The age range of the customers is between 18 and 79 years "
   ]
  },
  {
   "cell_type": "markdown",
   "id": "869d391d",
   "metadata": {},
   "source": [
    "### Analysis of Dependent Number"
   ]
  },
  {
   "cell_type": "code",
   "execution_count": null,
   "id": "6e8c729d",
   "metadata": {},
   "outputs": [],
   "source": [
    "histogram_boxplot(credit_data[\"dependent_number\"])"
   ]
  },
  {
   "cell_type": "markdown",
   "id": "cb5b8f87",
   "metadata": {},
   "source": [
    "* The distribution of the customers dependants number is somewhat normally distributed and boxplot indicated no outliers\n",
    "* The number of dependants are between 0 and 8 members for the customers."
   ]
  },
  {
   "cell_type": "markdown",
   "id": "2eab399b",
   "metadata": {},
   "source": [
    "### Analysis of Average Percentage of Credit Card Use Limit"
   ]
  },
  {
   "cell_type": "code",
   "execution_count": null,
   "id": "58805094",
   "metadata": {},
   "outputs": [],
   "source": [
    "histogram_boxplot(credit_data[\"Avg_CCL\"])"
   ]
  },
  {
   "cell_type": "markdown",
   "id": "7b975aa3",
   "metadata": {},
   "source": [
    "* The distribution of the customers average credit card limit used last year(%) is negatively skewed and boxplot indicated\n",
    "    the presence of outliers\n",
    "* The median and mean of customers average per credit card use limit are within 73%\n",
    "* 50% of the customers used below 74% of their credit card use limit "
   ]
  },
  {
   "cell_type": "markdown",
   "id": "4376a4c7",
   "metadata": {},
   "source": [
    "### Univariate Analysis of Categorical Variables"
   ]
  },
  {
   "cell_type": "code",
   "execution_count": null,
   "id": "51543b63",
   "metadata": {},
   "outputs": [],
   "source": [
    "# Function to create barplots that indicate percentage for each category.\n",
    "\n",
    "def perc_on_bar(z):\n",
    "    '''\n",
    "    plot\n",
    "    feature: categorical feature\n",
    "    the function won't work if a column is passed in hue parameter\n",
    "    '''\n",
    "\n",
    "    total = len(credit_data[z]) # length of the column\n",
    "    plt.figure(figsize=(15,5))\n",
    "    ax = sns.countplot(credit_data[z],palette='Paired')\n",
    "    for p in ax.patches:\n",
    "        percentage = '{:.1f}%'.format(100 * p.get_height()/total) # percentage of each class of the category\n",
    "        x = p.get_x() + p.get_width() / 2 - 0.05 # width of the plot\n",
    "        y = p.get_y() + p.get_height()           # hieght of the plot\n",
    "        \n",
    "        ax.annotate(percentage, (x, y), size = 12) # annotate the percantage \n",
    "    plt.show() # show the plot"
   ]
  },
  {
   "cell_type": "markdown",
   "id": "f819318a",
   "metadata": {},
   "source": [
    "### Analysis of Is First Loan"
   ]
  },
  {
   "cell_type": "code",
   "execution_count": null,
   "id": "c7eb680d",
   "metadata": {
    "scrolled": false
   },
   "outputs": [],
   "source": [
    "perc_on_bar(\"is_first_loan\")"
   ]
  },
  {
   "cell_type": "markdown",
   "id": "6c28cc56",
   "metadata": {},
   "source": [
    "* About 54.3% of the customers in the dataset are applying for loans for the first time"
   ]
  },
  {
   "cell_type": "markdown",
   "id": "ea500ca3",
   "metadata": {},
   "source": [
    "### Analysis of fully repaid previous Loan"
   ]
  },
  {
   "cell_type": "code",
   "execution_count": null,
   "id": "ade069aa",
   "metadata": {},
   "outputs": [],
   "source": [
    "credit_data.info()"
   ]
  },
  {
   "cell_type": "code",
   "execution_count": null,
   "id": "eda65d62",
   "metadata": {
    "scrolled": true
   },
   "outputs": [],
   "source": [
    "perc_on_bar(\"FRP_Loans\")"
   ]
  },
  {
   "cell_type": "markdown",
   "id": "5fa8cfe1",
   "metadata": {},
   "source": [
    "* 54.3% of the Customers are request for loan for the first time\n",
    "* 41.1% had previous loans and made full repayment\n",
    "* Only 4.6% of the customers had previous loans but did not repay"
   ]
  },
  {
   "cell_type": "markdown",
   "id": "90cc2bcc",
   "metadata": {},
   "source": [
    "### Analysis of Currently repaying other loans"
   ]
  },
  {
   "cell_type": "code",
   "execution_count": null,
   "id": "4932fd94",
   "metadata": {
    "scrolled": true
   },
   "outputs": [],
   "source": [
    "perc_on_bar(\"CRO_Loans\")"
   ]
  },
  {
   "cell_type": "markdown",
   "id": "92edc7ec",
   "metadata": {},
   "source": [
    "* About 16% of the customers have other loans they are currently repaying\n",
    "* 29.6% are not repaying any loans while about 54% are first time customers"
   ]
  },
  {
   "cell_type": "markdown",
   "id": "f86637bd",
   "metadata": {},
   "source": [
    "### Analysis of Customer Employment Status"
   ]
  },
  {
   "cell_type": "code",
   "execution_count": null,
   "id": "d189d725",
   "metadata": {
    "scrolled": true
   },
   "outputs": [],
   "source": [
    "perc_on_bar(\"is_employed\")"
   ]
  },
  {
   "cell_type": "markdown",
   "id": "04f4fe50",
   "metadata": {},
   "source": [
    "* About 67% of the customers are employed"
   ]
  },
  {
   "cell_type": "markdown",
   "id": "39a3093d",
   "metadata": {},
   "source": [
    "### Analysis of Loan Purpose"
   ]
  },
  {
   "cell_type": "code",
   "execution_count": null,
   "id": "132a97a9",
   "metadata": {
    "scrolled": false
   },
   "outputs": [],
   "source": [
    "perc_on_bar(\"loan_purpose\")"
   ]
  },
  {
   "cell_type": "markdown",
   "id": "5258511c",
   "metadata": {},
   "source": [
    "* Most loan requests were home loan while the least requests were for other purposes.\n",
    "* About 22% of the loan requests were for business and 21.4% for investment"
   ]
  },
  {
   "cell_type": "markdown",
   "id": "8057101b",
   "metadata": {},
   "source": [
    "### Analysis of Loan Granted"
   ]
  },
  {
   "cell_type": "code",
   "execution_count": null,
   "id": "b90d3df1",
   "metadata": {
    "scrolled": true
   },
   "outputs": [],
   "source": [
    "perc_on_bar(\"loan_granted\")"
   ]
  },
  {
   "cell_type": "markdown",
   "id": "233ff93e",
   "metadata": {},
   "source": [
    "* 50.3% of loan applications were denied, only 49.7% requests was granted"
   ]
  },
  {
   "cell_type": "markdown",
   "id": "7ea29943",
   "metadata": {},
   "source": [
    "### Analysis of Loan Repaid"
   ]
  },
  {
   "cell_type": "code",
   "execution_count": null,
   "id": "b851463b",
   "metadata": {},
   "outputs": [],
   "source": [
    "perc_on_bar(\"loan_repaid\")"
   ]
  },
  {
   "cell_type": "markdown",
   "id": "33e05535",
   "metadata": {},
   "source": [
    "* About two third of the total requests granted were paid back"
   ]
  },
  {
   "cell_type": "markdown",
   "id": "ce4482ce",
   "metadata": {},
   "source": [
    "### Analysis of Loan Request Day"
   ]
  },
  {
   "cell_type": "code",
   "execution_count": null,
   "id": "ae2bcaaf",
   "metadata": {
    "scrolled": true
   },
   "outputs": [],
   "source": [
    "perc_on_bar(\"day\")"
   ]
  },
  {
   "cell_type": "markdown",
   "id": "43f77dcd",
   "metadata": {},
   "source": [
    "* There is no particular day(s) which can be associated with loan applications. That is application were submitted\n",
    "    as the customers were ready."
   ]
  },
  {
   "cell_type": "markdown",
   "id": "7fb527d5",
   "metadata": {},
   "source": [
    "### Analysis of Loan Request Month"
   ]
  },
  {
   "cell_type": "code",
   "execution_count": null,
   "id": "a5abf5e3",
   "metadata": {
    "scrolled": true
   },
   "outputs": [],
   "source": [
    "perc_on_bar(\"month\")"
   ]
  },
  {
   "cell_type": "markdown",
   "id": "00c478fb",
   "metadata": {},
   "source": [
    "* There are no particular month(s) which can be associated with loan applications. That is application were submitted\n",
    "    as the customers deemed it fit. No promotions or enticement for customers to apply within the period of review."
   ]
  },
  {
   "cell_type": "markdown",
   "id": "2197a991",
   "metadata": {},
   "source": [
    "### Analysis of loan Request (days of the week)"
   ]
  },
  {
   "cell_type": "code",
   "execution_count": null,
   "id": "0f87a60a",
   "metadata": {
    "scrolled": true
   },
   "outputs": [],
   "source": [
    "perc_on_bar(\"weekday\")"
   ]
  },
  {
   "cell_type": "markdown",
   "id": "4c133643",
   "metadata": {},
   "source": [
    "* Loan applications submission seems to be day of the week dependent. Monday to Wednesday showed to be days when most applications are submitted and Friday being the end of the week day showed less submissions."
   ]
  },
  {
   "cell_type": "markdown",
   "id": "db985848",
   "metadata": {},
   "source": [
    "## Bivariate Analysis"
   ]
  },
  {
   "cell_type": "code",
   "execution_count": 158,
   "id": "377fca53",
   "metadata": {},
   "outputs": [],
   "source": [
    "#Making loan_granted a numeric variable\n",
    "credit_data1 = credit_data.copy()\n",
    "col = [\"loan_granted\"]\n",
    "credit_data1[col] = credit_data1[col].astype(int)"
   ]
  },
  {
   "cell_type": "code",
   "execution_count": null,
   "id": "932a9d82",
   "metadata": {
    "scrolled": true
   },
   "outputs": [],
   "source": [
    "#Correlation Matrix for Numeric Variables with Loan Granted (a Categorical Variable) to determine the relationship between \n",
    "#each numeric variable and Loan granted\n",
    "plt.figure(figsize=(15,7))\n",
    "sns.heatmap(credit_data1.corr(), annot=True, vmin=-1, vmax=1, fmt='.2f', cmap='Spectral')\n",
    "plt.show()"
   ]
  },
  {
   "cell_type": "markdown",
   "id": "2efe0624",
   "metadata": {},
   "source": [
    "* Loan_granted has positive although insignificant relationship with TCC_limit(0.1), saving_amount(0.14), checking_amount(0.14)\n",
    "  and a more significant relatonship with yearly_salary(0.42). It relationship with Avg_CCL is negative and insignificant.\n",
    "\n",
    "* The relationships of other numeric variables among themselves are quite insignificant"
   ]
  },
  {
   "cell_type": "code",
   "execution_count": null,
   "id": "37805b44",
   "metadata": {},
   "outputs": [],
   "source": [
    "#Subset the Credit_data dataframe for customers whose loan requests were granted\n",
    "credit_data2 = credit_data[credit_data[\"loan_granted\"]!=0].reset_index(drop=True)\n",
    "\n",
    "#Making loan_repaid a numeric variable\n",
    "cat_cols = [\"loan_repaid\"]\n",
    "credit_data2[cat_cols] = credit_data2[cat_cols].astype(int)"
   ]
  },
  {
   "cell_type": "code",
   "execution_count": null,
   "id": "26953118",
   "metadata": {
    "scrolled": true
   },
   "outputs": [],
   "source": [
    "#Correlation Matrix for Numeric Variables with loan repaid (a Categorical Variable) to determine the relationship between\n",
    "#each numeric variable and Loan repaid (target variable)\n",
    "plt.figure(figsize=(15,7))\n",
    "sns.heatmap(credit_data2.corr(), annot=True, vmin=-1, vmax=1, fmt='.2f', cmap='Spectral')\n",
    "plt.show()"
   ]
  },
  {
   "cell_type": "markdown",
   "id": "aa2f017d",
   "metadata": {},
   "source": [
    "* Loan_repaid has a more significant positive relationship with TCC_limit(0.38), saving_amount(0.49), checking_amount(0.49),\n",
    "  yearly_salary(0.42). It relationships with Avg_CCL and dependent_number are negative (-0.21 & -0.14) respectively but\n",
    "  insignificant.\n",
    "\n",
    "* The relationships of other numeric variables among themselves are quite insignificant"
   ]
  },
  {
   "cell_type": "code",
   "execution_count": null,
   "id": "e9a7c97b",
   "metadata": {},
   "outputs": [],
   "source": [
    "### Bivariate Analysis of categorical variables and loan granted (protarget variable)\n",
    "def stacked_plot(x):\n",
    "    sns.set()\n",
    "    ## crosstab\n",
    "    tab1 = pd.crosstab(x,credit_data['loan_granted'], margins = True)\n",
    "    print(tab1)\n",
    "    print('-'*120)\n",
    "    \n",
    "    ## crosstab 2\n",
    "    tab2 = pd.crosstab(x, credit_data['loan_granted'], margins = True, normalize = \"all\")\n",
    "    print(tab2 * 100)\n",
    "    print('-' * 120)\n",
    "\n",
    "    ## crosstab 3\n",
    "    tab3 = pd.crosstab(x,credit_data['loan_granted'],margins=True, normalize='index')\n",
    "    print(tab3 *100)\n",
    "    print('-'*120)\n",
    "\n",
    "    ## visualising the cross tab\n",
    "    tab = pd.crosstab(x,credit_data['loan_granted'],normalize='index').sort_values(by=1,ascending=False)\n",
    "    tab.plot(kind='bar', stacked=True, figsize=(10,4))\n",
    "    plt.legend(loc='lower left', frameon=False,)\n",
    "    plt.legend(loc=\"upper left\", bbox_to_anchor=(1,1))\n",
    "    plt.show()"
   ]
  },
  {
   "cell_type": "code",
   "execution_count": null,
   "id": "d0fa255c",
   "metadata": {
    "scrolled": false
   },
   "outputs": [],
   "source": [
    "stacked_plot(credit_data[\"is_first_loan\"])"
   ]
  },
  {
   "cell_type": "markdown",
   "id": "d6399a4e",
   "metadata": {},
   "source": [
    "* 49.5% of the requests of the first time customers were granted while even for old customers' only 49.8% of their requests were granted. Overall, 54.1% of the loan requests granted were for first time applicants, while only 45.9% were for old customers"
   ]
  },
  {
   "cell_type": "code",
   "execution_count": null,
   "id": "ae221874",
   "metadata": {},
   "outputs": [],
   "source": [
    "stacked_plot(credit_data[\"CRO_Loans\"])"
   ]
  },
  {
   "cell_type": "markdown",
   "id": "dcaf7593",
   "metadata": {},
   "source": [
    "* 16.12% were currently repaying other loans out of which 6.7% were granted new loan. 83.88% were not repaying any loan but only 42.98% were granted their request"
   ]
  },
  {
   "cell_type": "code",
   "execution_count": null,
   "id": "9949c443",
   "metadata": {},
   "outputs": [],
   "source": [
    "stacked_plot(credit_data[\"is_employed\"])"
   ]
  },
  {
   "cell_type": "markdown",
   "id": "e6c8d1c8",
   "metadata": {},
   "source": [
    "* 68.1% of the employed customers’ requests were granted while 12.4% of the unemployed customers' request were only granted. On the overall, 45.6% and 4.1% of applications granted were from employed and unemployed customers respectively and 21.4% and 29% of applications denied were from employed unemployed customers respectively."
   ]
  },
  {
   "cell_type": "code",
   "execution_count": null,
   "id": "3a9e1277",
   "metadata": {},
   "outputs": [],
   "source": [
    "stacked_plot(credit_data[\"loan_purpose\"])"
   ]
  },
  {
   "cell_type": "markdown",
   "id": "2869585c",
   "metadata": {},
   "source": [
    "* 11.2% of the loans granted were for business, 11.1% for investment, 12.1% for home, 8% for emergency funds, and 7.2%\n",
    "    for other purposes.\n",
    "* 51.8% of business loans request were granted, 51.8% of investment, 50.2% of home, 45.6% of emergency funds,\n",
    "    and 44.6% of other purposes."
   ]
  },
  {
   "cell_type": "code",
   "execution_count": null,
   "id": "741cae1e",
   "metadata": {},
   "outputs": [],
   "source": [
    "stacked_plot(credit_data[\"loan_repaid\"])"
   ]
  },
  {
   "cell_type": "markdown",
   "id": "d153b00b",
   "metadata": {},
   "source": [
    "* 30550 out of 46751 customers given loans were repaid."
   ]
  },
  {
   "cell_type": "code",
   "execution_count": null,
   "id": "91595209",
   "metadata": {},
   "outputs": [],
   "source": [
    "stacked_plot(credit_data[\"FRP_Loans\"])"
   ]
  },
  {
   "cell_type": "markdown",
   "id": "d810929a",
   "metadata": {},
   "source": [
    "* 20.57% of the customers granted new loan had previous loans and paid it back while 2.2% had previous loans but did not repay\n",
    "* 20.56% of the customers had previous loans, repaid but were not granted new loans\n",
    "* 48.3% of the requests of customers who had previous loans and did not pay back were successful, 2072 out of 4291\n",
    "* 50% of the requests of customers who had previous loans and paid back were successful, 19366 out of 38,716"
   ]
  },
  {
   "cell_type": "code",
   "execution_count": null,
   "id": "662faae9",
   "metadata": {},
   "outputs": [],
   "source": [
    "### Bivariate Analysis of categorical variables and loan repaid (main target variable)\n",
    "def stacked_plt(y):\n",
    "    sns.set()\n",
    "    ## crosstab\n",
    "    tab1 = pd.crosstab(y,credit_data['loan_repaid'], margins = True)\n",
    "    print(tab1)\n",
    "    print('-'*120)\n",
    "    \n",
    "    ## crosstab 2\n",
    "    tab2 = pd.crosstab(y, credit_data['loan_repaid'], margins = True, normalize = \"all\")\n",
    "    print(tab2 * 100)\n",
    "    print('-' * 120)\n",
    "\n",
    "    ## crosstab 3\n",
    "    tab3 = pd.crosstab(y,credit_data['loan_repaid'],margins=True, normalize='index')\n",
    "    print(tab3 *100)\n",
    "    print('-'*120)\n",
    "    \n",
    "    ## crosstab 4\n",
    "    tab4 = pd.crosstab(y,credit_data['loan_repaid'],margins=True, normalize='columns')\n",
    "    print(tab4 *100)\n",
    "    print('-'*120)\n",
    "\n",
    "## visualising the cross tab\n",
    "    tab = pd.crosstab(y,credit_data['loan_repaid'],normalize='index').sort_values(by=1,ascending=False)\n",
    "    tab.plot(kind='bar',stacked=True,figsize=(17,7))\n",
    "    plt.legend(loc='lower left', frameon=False,)\n",
    "    plt.legend(loc=\"upper left\", bbox_to_anchor=(1,1))\n",
    "    plt.show()"
   ]
  },
  {
   "cell_type": "code",
   "execution_count": null,
   "id": "672709f0",
   "metadata": {},
   "outputs": [],
   "source": [
    "stacked_plt(credit_data[\"is_first_loan\"])"
   ]
  },
  {
   "cell_type": "markdown",
   "id": "8f8db691",
   "metadata": {},
   "source": [
    "* •\t14.7% of the customers had previous loans, had their new requests granted and repaid the new loan while 17.7% had no previous loans, had their requests granted and also repaid their loan\n",
    "* 50.2% of the applications of customers who had previous loans were denied, 32.3% were successful and they repaid, and \n",
    "    17.6 were granted but refused to repay.\n",
    "* 50.5% of the applications of customers who were first time applicants were denied, 32.6% were successful and they repaid,\n",
    "    and 16.9% were granted but refused to repay.\n",
    "* Out of the 43007 customers who had had previous loans, 21569 were denied new loan, 13876 were granted and repaid, and 7562\n",
    "    were also granted but did not repay.\n",
    "* Out of the 51121 customers who were first loan applicants, 25808 were denied new loan, 16674 were granted and repaid, \n",
    "    and 8639 were also granted but did not repay."
   ]
  },
  {
   "cell_type": "code",
   "execution_count": null,
   "id": "e111d8fc",
   "metadata": {
    "scrolled": true
   },
   "outputs": [],
   "source": [
    "stacked_plt(credit_data[\"FRP_Loans\"])"
   ]
  },
  {
   "cell_type": "markdown",
   "id": "ce366d9a",
   "metadata": {},
   "source": [
    "* Out of the 32.5% that made repayment of the new loans, 13.45% were those that fully repaid their previous loans, 1.3% were those that defaulted, and 17.7% were first time loan customers.\n",
    "* Out of the 17.2% of all the customers did not repay their loans. 0.9% were defaulter that did not fully repay their previous loans, 7.1% fully repaid their previous loan, and 9.2% were first time loan customers."
   ]
  },
  {
   "cell_type": "code",
   "execution_count": null,
   "id": "1f38d66e",
   "metadata": {
    "scrolled": true
   },
   "outputs": [],
   "source": [
    "stacked_plt(credit_data[\"CRO_Loans\"])"
   ]
  },
  {
   "cell_type": "markdown",
   "id": "edc0ee8e",
   "metadata": {},
   "source": [
    "* Out of the 32.5% customers that repaid the new loan. 12.9% were not currently repaying any loans, 1.9% were currently repaying loans and 17.7% were customers with no previous loans.\n",
    "* 3.2% of the customers had no loan running but still defaulter and 4.8% had current loan running.\n",
    "* Most defaults were from customers who were first loan customers\n",
    "* Most of the customers that were given new loan while they were repaying another loans defaulted."
   ]
  },
  {
   "cell_type": "code",
   "execution_count": null,
   "id": "4b2e7752",
   "metadata": {},
   "outputs": [],
   "source": [
    "stacked_plt(credit_data[\"is_employed\"])"
   ]
  },
  {
   "cell_type": "markdown",
   "id": "e130c8c1",
   "metadata": {},
   "source": [
    "* 87.6% of customers who were unemployed where denied the new loan and out of the 12% that were given loan about 10% defaulted.\n",
    "* Out of the 66.9% of the employed customers 21.4% were denied loan, 31.7% repaid but 13.9% defaulted."
   ]
  },
  {
   "cell_type": "code",
   "execution_count": null,
   "id": "fccf57b9",
   "metadata": {
    "scrolled": true
   },
   "outputs": [],
   "source": [
    "stacked_plt(credit_data[\"loan_purpose\"])"
   ]
  },
  {
   "cell_type": "markdown",
   "id": "d48d41a8",
   "metadata": {},
   "source": [
    "* Most default originated from loans requested for emergency funds, followed by home loans. The least default was from loan secured for business.\n",
    "* Most repayment were from business loans, followed by home loans with emergency funds being the least."
   ]
  },
  {
   "cell_type": "markdown",
   "id": "7d93a2cb",
   "metadata": {},
   "source": [
    "### Outlier treatment\n",
    "* Most of the numeric variables had outliers which in theory should be treated but in practice these situations were possible so outlier treatment will be limited to the features age and it was due to default rate of unemployed customers. Since the maximum age of the customer was 79, for the purpose of the project 65 years would be the benchmark age for anyone who was not earning income above 10,000."
   ]
  },
  {
   "cell_type": "code",
   "execution_count": 159,
   "id": "98ac40f0",
   "metadata": {
    "scrolled": true
   },
   "outputs": [],
   "source": [
    "## Droping features that are not useful for modeling\n",
    "cols = [\"day\",\"month\",\"weekday\",\"loan_id\", \"date\"]\n",
    "credit_data1.drop(columns = cols, axis=1, inplace=True)\n",
    "\n",
    "## New dataframe for customers who are less than 71 and those who are above 70 with yearly income of at least $10,000\n",
    "credit_data3 = (credit_data1[~((credit_data1[\"age\"] > 65) & (credit_data1[\"yearly_salary\"] <= 10000))]).reset_index(drop=True)"
   ]
  },
  {
   "cell_type": "markdown",
   "id": "d802e503",
   "metadata": {},
   "source": [
    "### Features Engineering "
   ]
  },
  {
   "cell_type": "code",
   "execution_count": 160,
   "id": "61352855",
   "metadata": {},
   "outputs": [],
   "source": [
    "## Converting some features to categorical data type\n",
    "cols = [\"FRP_Loans\",\"CRO_Loans\", \"loan_repaid\", \"loan_granted\"]\n",
    "credit_data3[cols] = credit_data3[cols].astype(int).astype('category')"
   ]
  },
  {
   "cell_type": "code",
   "execution_count": 161,
   "id": "2353e595",
   "metadata": {
    "scrolled": false
   },
   "outputs": [],
   "source": [
    "# One Hot Encoding of the categorical features using get_dummies in preparation for modeling\n",
    "cols = [\"FRP_Loans\",\"CRO_Loans\",\"loan_purpose\"]\n",
    "credit_data3 = pd.get_dummies(credit_data3, columns=cols)"
   ]
  },
  {
   "cell_type": "code",
   "execution_count": 162,
   "id": "4a6a7227",
   "metadata": {},
   "outputs": [],
   "source": [
    "## Transformation of the numeric features using MinMaxScalar\n",
    "cols = [\"TCC_Limit\", \"Avg_CCL\", \"saving_amount\", \"checking_amount\", \"yearly_salary\", \"age\", \"dependent_number\"]\n",
    "credit_data3[cols] = MinMaxScaler().fit_transform(credit_data3[cols])"
   ]
  },
  {
   "cell_type": "code",
   "execution_count": 163,
   "id": "b96edfe7",
   "metadata": {},
   "outputs": [],
   "source": [
    "# Clean dataset ready for modeling\n",
    "credit_data3\n",
    "\n",
    "# Creating a copy of the cleaned dataset to model for loan_repaid\n",
    "credit_data4 = credit_data3.copy()"
   ]
  },
  {
   "cell_type": "markdown",
   "id": "92d2ea1c",
   "metadata": {},
   "source": [
    "## Modeling"
   ]
  },
  {
   "cell_type": "markdown",
   "id": "89d6ceb8",
   "metadata": {},
   "source": [
    "* Modeling for this project is divided into two aspect, the first is to model the loan granting feature, in order to improve\n",
    "* the process. The initial loan_granted feature was replaced by the predicted loan granted feature to model the loan repaid feature."
   ]
  },
  {
   "cell_type": "code",
   "execution_count": 164,
   "id": "7febc566",
   "metadata": {
    "scrolled": true
   },
   "outputs": [],
   "source": [
    "## Separating Target feature from the other independent features\n",
    "cols = [\"loan_granted\", \"loan_repaid\"]\n",
    "y = credit_data3[\"loan_granted\"]\n",
    "x = credit_data3.drop(cols, axis=1)"
   ]
  },
  {
   "cell_type": "code",
   "execution_count": 165,
   "id": "eba31374",
   "metadata": {},
   "outputs": [
    {
     "data": {
      "text/html": [
       "<div>\n",
       "<style scoped>\n",
       "    .dataframe tbody tr th:only-of-type {\n",
       "        vertical-align: middle;\n",
       "    }\n",
       "\n",
       "    .dataframe tbody tr th {\n",
       "        vertical-align: top;\n",
       "    }\n",
       "\n",
       "    .dataframe thead th {\n",
       "        text-align: right;\n",
       "    }\n",
       "</style>\n",
       "<table border=\"1\" class=\"dataframe\">\n",
       "  <thead>\n",
       "    <tr style=\"text-align: right;\">\n",
       "      <th></th>\n",
       "      <th>feature</th>\n",
       "      <th>measure</th>\n",
       "    </tr>\n",
       "  </thead>\n",
       "  <tbody>\n",
       "    <tr>\n",
       "      <th>6</th>\n",
       "      <td>yearly_salary</td>\n",
       "      <td>0.218622</td>\n",
       "    </tr>\n",
       "    <tr>\n",
       "      <th>2</th>\n",
       "      <td>Avg_CCL</td>\n",
       "      <td>0.138026</td>\n",
       "    </tr>\n",
       "    <tr>\n",
       "      <th>5</th>\n",
       "      <td>is_employed</td>\n",
       "      <td>0.128454</td>\n",
       "    </tr>\n",
       "    <tr>\n",
       "      <th>3</th>\n",
       "      <td>saving_amount</td>\n",
       "      <td>0.120004</td>\n",
       "    </tr>\n",
       "    <tr>\n",
       "      <th>4</th>\n",
       "      <td>checking_amount</td>\n",
       "      <td>0.118978</td>\n",
       "    </tr>\n",
       "    <tr>\n",
       "      <th>1</th>\n",
       "      <td>TCC_Limit</td>\n",
       "      <td>0.095591</td>\n",
       "    </tr>\n",
       "    <tr>\n",
       "      <th>7</th>\n",
       "      <td>age</td>\n",
       "      <td>0.090243</td>\n",
       "    </tr>\n",
       "    <tr>\n",
       "      <th>8</th>\n",
       "      <td>dependent_number</td>\n",
       "      <td>0.043555</td>\n",
       "    </tr>\n",
       "    <tr>\n",
       "      <th>17</th>\n",
       "      <td>loan_purpose_home</td>\n",
       "      <td>0.006348</td>\n",
       "    </tr>\n",
       "    <tr>\n",
       "      <th>15</th>\n",
       "      <td>loan_purpose_business</td>\n",
       "      <td>0.006276</td>\n",
       "    </tr>\n",
       "    <tr>\n",
       "      <th>18</th>\n",
       "      <td>loan_purpose_investment</td>\n",
       "      <td>0.006259</td>\n",
       "    </tr>\n",
       "    <tr>\n",
       "      <th>16</th>\n",
       "      <td>loan_purpose_emergency_funds</td>\n",
       "      <td>0.005460</td>\n",
       "    </tr>\n",
       "    <tr>\n",
       "      <th>19</th>\n",
       "      <td>loan_purpose_other</td>\n",
       "      <td>0.005254</td>\n",
       "    </tr>\n",
       "    <tr>\n",
       "      <th>12</th>\n",
       "      <td>CRO_Loans_0</td>\n",
       "      <td>0.003242</td>\n",
       "    </tr>\n",
       "    <tr>\n",
       "      <th>13</th>\n",
       "      <td>CRO_Loans_1</td>\n",
       "      <td>0.003075</td>\n",
       "    </tr>\n",
       "    <tr>\n",
       "      <th>10</th>\n",
       "      <td>FRP_Loans_1</td>\n",
       "      <td>0.002994</td>\n",
       "    </tr>\n",
       "    <tr>\n",
       "      <th>9</th>\n",
       "      <td>FRP_Loans_0</td>\n",
       "      <td>0.002241</td>\n",
       "    </tr>\n",
       "    <tr>\n",
       "      <th>11</th>\n",
       "      <td>FRP_Loans_2</td>\n",
       "      <td>0.001820</td>\n",
       "    </tr>\n",
       "    <tr>\n",
       "      <th>0</th>\n",
       "      <td>is_first_loan</td>\n",
       "      <td>0.001808</td>\n",
       "    </tr>\n",
       "    <tr>\n",
       "      <th>14</th>\n",
       "      <td>CRO_Loans_2</td>\n",
       "      <td>0.001750</td>\n",
       "    </tr>\n",
       "  </tbody>\n",
       "</table>\n",
       "</div>"
      ],
      "text/plain": [
       "                         feature   measure\n",
       "6                  yearly_salary  0.218622\n",
       "2                        Avg_CCL  0.138026\n",
       "5                    is_employed  0.128454\n",
       "3                  saving_amount  0.120004\n",
       "4                checking_amount  0.118978\n",
       "1                      TCC_Limit  0.095591\n",
       "7                            age  0.090243\n",
       "8               dependent_number  0.043555\n",
       "17             loan_purpose_home  0.006348\n",
       "15         loan_purpose_business  0.006276\n",
       "18       loan_purpose_investment  0.006259\n",
       "16  loan_purpose_emergency_funds  0.005460\n",
       "19            loan_purpose_other  0.005254\n",
       "12                   CRO_Loans_0  0.003242\n",
       "13                   CRO_Loans_1  0.003075\n",
       "10                   FRP_Loans_1  0.002994\n",
       "9                    FRP_Loans_0  0.002241\n",
       "11                   FRP_Loans_2  0.001820\n",
       "0                  is_first_loan  0.001808\n",
       "14                   CRO_Loans_2  0.001750"
      ]
     },
     "execution_count": 165,
     "metadata": {},
     "output_type": "execute_result"
    }
   ],
   "source": [
    "## Identifying important features in the dataset using Random forest\n",
    "modelRF = RandomForestClassifier()\n",
    "modelRF.fit(x, y)\n",
    "\n",
    "FImportance = pd.DataFrame(modelRF.feature_importances_, x.columns).reset_index()\n",
    "FImportance.columns =['feature', 'measure']\n",
    "FImportance= FImportance.sort_values('measure', ascending=False)\n",
    "FImportance"
   ]
  },
  {
   "cell_type": "code",
   "execution_count": 166,
   "id": "76f4a7cd",
   "metadata": {},
   "outputs": [
    {
     "name": "stdout",
     "output_type": "stream",
     "text": [
      "Features Variance inflation factor: \n",
      "\n",
      "const                           0.000000e+00\n",
      "is_first_loan                            inf\n",
      "TCC_Limit                       1.109852e+00\n",
      "Avg_CCL                         1.031188e+00\n",
      "saving_amount                   1.191399e+00\n",
      "checking_amount                 1.188970e+00\n",
      "is_employed                     2.698541e+00\n",
      "yearly_salary                   2.810135e+00\n",
      "age                             1.002623e+00\n",
      "dependent_number                1.012842e+00\n",
      "FRP_Loans_0                     2.642647e+11\n",
      "FRP_Loans_1                     5.826275e+04\n",
      "FRP_Loans_2                     2.857016e+10\n",
      "CRO_Loans_0                     9.410041e+04\n",
      "CRO_Loans_1                     6.114286e+10\n",
      "CRO_Loans_2                     4.959201e+10\n",
      "loan_purpose_business           5.182580e+09\n",
      "loan_purpose_emergency_funds    2.693540e+11\n",
      "loan_purpose_home               7.855915e+10\n",
      "loan_purpose_investment         5.504322e+05\n",
      "loan_purpose_other              2.045464e+11\n",
      "dtype: float64\n",
      "\n"
     ]
    }
   ],
   "source": [
    "## Checking Multicollinerity using Variance inflation factor computation\n",
    "ind_features = x.copy()\n",
    "ind_features = add_constant(ind_features).astype(float)\n",
    "\n",
    "vif = pd.Series([variance_inflation_factor(ind_features.values,i) for i in range(ind_features.shape[1])],\n",
    "                       index=ind_features.columns, dtype = float)\n",
    "print('Features Variance inflation factor: \\n\\n{}\\n'.format(vif))"
   ]
  },
  {
   "cell_type": "markdown",
   "id": "9582e6d3",
   "metadata": {},
   "source": [
    "* is_first_loan, FRP_Loans_0, FRP_Loans_1, FRP_Loans_2, CRO_Loans_0, CRO_Loans_1, CRO_Loans_2, loan_purpose_business,\n",
    "* loan_purpose_emergency_funds, loan_purpose_home, loan_purpose_investment, loan_purpose_other vif are extremely very high"
   ]
  },
  {
   "cell_type": "code",
   "execution_count": 167,
   "id": "cbb9497a",
   "metadata": {},
   "outputs": [],
   "source": [
    "## Dropping the less important features that were causing multicollinearity in the dataset\n",
    "X = x.drop([\"loan_purpose_other\",\"FRP_Loans_0\", \"FRP_Loans_1\", \"FRP_Loans_2\", \"CRO_Loans_0\", \"CRO_Loans_1\", \"CRO_Loans_2\"], axis=1)"
   ]
  },
  {
   "cell_type": "code",
   "execution_count": 168,
   "id": "346b302d",
   "metadata": {},
   "outputs": [
    {
     "name": "stdout",
     "output_type": "stream",
     "text": [
      "Features Variance inflation factor: \n",
      "\n",
      "const                           38.931906\n",
      "is_first_loan                    1.000106\n",
      "TCC_Limit                        1.105122\n",
      "Avg_CCL                          1.030189\n",
      "saving_amount                    1.179648\n",
      "checking_amount                  1.178050\n",
      "is_employed                      2.698552\n",
      "yearly_salary                    2.802214\n",
      "age                              1.002627\n",
      "dependent_number                 1.012452\n",
      "loan_purpose_business            1.920324\n",
      "loan_purpose_emergency_funds     1.784192\n",
      "loan_purpose_home                1.974425\n",
      "loan_purpose_investment          1.912941\n",
      "dtype: float64\n",
      "\n"
     ]
    }
   ],
   "source": [
    "## Variance inflation factor computation\n",
    "ind_features = X.copy()\n",
    "ind_features = add_constant(ind_features).astype(float)\n",
    "\n",
    "vif = pd.Series([variance_inflation_factor(ind_features.values,i) for i in range(ind_features.shape[1])],\n",
    "                       index=ind_features.columns, dtype = float)\n",
    "print('Features Variance inflation factor: \\n\\n{}\\n'.format(vif))"
   ]
  },
  {
   "cell_type": "code",
   "execution_count": 169,
   "id": "f3382d25",
   "metadata": {},
   "outputs": [],
   "source": [
    "## Splitting the dataset into train and test dataset\n",
    "from sklearn.model_selection import train_test_split\n",
    "X_train, X_test, y_train, y_test = train_test_split(X, y, test_size= 0.25, random_state= 10)"
   ]
  },
  {
   "cell_type": "code",
   "execution_count": 170,
   "id": "c40f8f05",
   "metadata": {
    "scrolled": false
   },
   "outputs": [
    {
     "name": "stdout",
     "output_type": "stream",
     "text": [
      "1    34892\n",
      "0    34693\n",
      "Name: loan_granted, dtype: int64\n",
      "********************\n",
      "1    11610\n",
      "0    11585\n",
      "Name: loan_granted, dtype: int64\n"
     ]
    }
   ],
   "source": [
    "print( y_train.value_counts())\n",
    "print('*'*20)\n",
    "print(y_test.value_counts())"
   ]
  },
  {
   "cell_type": "markdown",
   "id": "ab4e9f91",
   "metadata": {},
   "source": [
    "* Both classes in the train and test target feature are equally represented\n",
    "* The dataset is therefore a balanced dataset"
   ]
  },
  {
   "cell_type": "code",
   "execution_count": 171,
   "id": "fcc32d53",
   "metadata": {},
   "outputs": [],
   "source": [
    "## Models to consider\n",
    "models = []\n",
    "models.append(('Logic', LogisticRegression()))\n",
    "models.append(('LDA', LinearDiscriminantAnalysis()))\n",
    "models.append(('CART', DecisionTreeClassifier()))\n",
    "models.append(('KNN', KNeighborsClassifier()))\n",
    "models.append(('RF', RandomForestClassifier()))\n",
    "models.append(('ADA', AdaBoostClassifier()))\n",
    "models.append(('GB', GradientBoostingClassifier()))\n",
    "models.append(('ETC', ExtraTreesClassifier()))"
   ]
  },
  {
   "cell_type": "code",
   "execution_count": 172,
   "id": "574fd9d4",
   "metadata": {},
   "outputs": [],
   "source": [
    "##Function to run 8 different models on training data using cross validation and\n",
    "## y_test was predicted using the models\n",
    "\n",
    "def model_selection(x_train, y_train, x_test):\n",
    "    acc_result = []\n",
    "    recall_result = []\n",
    "    fscore_result= []\n",
    "    names = []\n",
    "      \n",
    "    j_scores = list()\n",
    "    k_scores = list()\n",
    "    l_scores = list()\n",
    "    pred_ytest = list()\n",
    "\n",
    "    col = ['Model', 'ACC Mean', 'Recall Mean', \"F Score\"]\n",
    "    result = pd.DataFrame(columns = col)\n",
    "\n",
    "    i=0\n",
    "    for name, model in models:\n",
    "        kfold = KFold(n_splits = 10)\n",
    "        cv_acc_result  = cross_val_score(model, x_train, y_train, cv = kfold, scoring = 'accuracy')\n",
    "        cv_recall_result  = cross_val_score(model, x_train, y_train, cv = kfold, scoring = 'recall')\n",
    "        cv_fscore_result = cross_val_score(model, x_train, y_train, cv = kfold, scoring = 'f1')\n",
    "            \n",
    "        acc_result.append(cv_acc_result)\n",
    "        recall_result.append(cv_recall_result)\n",
    "        fscore_result.append(cv_fscore_result)\n",
    "        names.append(name)\n",
    "        \n",
    "        j_scores.append(cv_acc_result)\n",
    "        k_scores.append(cv_recall_result)        \n",
    "        l_scores.append(cv_fscore_result)\n",
    "\n",
    "        result.loc[i] = [name, \n",
    "                         cv_acc_result.mean(), \n",
    "                         cv_recall_result.mean(),\n",
    "                         cv_fscore_result.mean()]\n",
    "        \n",
    "        model.fit(x_train, y_train)\n",
    "        y_pred = [model.predict(x_test)]\n",
    "        pred_ytest.append(y_pred)\n",
    "        \n",
    "        i+= 1\n",
    "    result = result.sort_values('F Score', ascending = False)\n",
    "    return result, j_scores, k_scores, l_scores, names, pred_ytest   "
   ]
  },
  {
   "cell_type": "code",
   "execution_count": 173,
   "id": "757babb0",
   "metadata": {},
   "outputs": [
    {
     "data": {
      "text/html": [
       "<div>\n",
       "<style scoped>\n",
       "    .dataframe tbody tr th:only-of-type {\n",
       "        vertical-align: middle;\n",
       "    }\n",
       "\n",
       "    .dataframe tbody tr th {\n",
       "        vertical-align: top;\n",
       "    }\n",
       "\n",
       "    .dataframe thead th {\n",
       "        text-align: right;\n",
       "    }\n",
       "</style>\n",
       "<table border=\"1\" class=\"dataframe\">\n",
       "  <thead>\n",
       "    <tr style=\"text-align: right;\">\n",
       "      <th></th>\n",
       "      <th>Model</th>\n",
       "      <th>ACC Mean</th>\n",
       "      <th>Recall Mean</th>\n",
       "      <th>F Score</th>\n",
       "    </tr>\n",
       "  </thead>\n",
       "  <tbody>\n",
       "    <tr>\n",
       "      <th>5</th>\n",
       "      <td>ADA</td>\n",
       "      <td>0.771775</td>\n",
       "      <td>0.911601</td>\n",
       "      <td>0.800237</td>\n",
       "    </tr>\n",
       "    <tr>\n",
       "      <th>6</th>\n",
       "      <td>GB</td>\n",
       "      <td>0.771646</td>\n",
       "      <td>0.911372</td>\n",
       "      <td>0.800106</td>\n",
       "    </tr>\n",
       "    <tr>\n",
       "      <th>4</th>\n",
       "      <td>RF</td>\n",
       "      <td>0.770511</td>\n",
       "      <td>0.905556</td>\n",
       "      <td>0.797796</td>\n",
       "    </tr>\n",
       "    <tr>\n",
       "      <th>7</th>\n",
       "      <td>ETC</td>\n",
       "      <td>0.765093</td>\n",
       "      <td>0.894752</td>\n",
       "      <td>0.793077</td>\n",
       "    </tr>\n",
       "    <tr>\n",
       "      <th>0</th>\n",
       "      <td>Logic</td>\n",
       "      <td>0.743867</td>\n",
       "      <td>0.920198</td>\n",
       "      <td>0.782757</td>\n",
       "    </tr>\n",
       "    <tr>\n",
       "      <th>1</th>\n",
       "      <td>LDA</td>\n",
       "      <td>0.743867</td>\n",
       "      <td>0.920198</td>\n",
       "      <td>0.782757</td>\n",
       "    </tr>\n",
       "    <tr>\n",
       "      <th>3</th>\n",
       "      <td>KNN</td>\n",
       "      <td>0.709477</td>\n",
       "      <td>0.769835</td>\n",
       "      <td>0.726576</td>\n",
       "    </tr>\n",
       "    <tr>\n",
       "      <th>2</th>\n",
       "      <td>CART</td>\n",
       "      <td>0.649881</td>\n",
       "      <td>0.646427</td>\n",
       "      <td>0.648927</td>\n",
       "    </tr>\n",
       "  </tbody>\n",
       "</table>\n",
       "</div>"
      ],
      "text/plain": [
       "   Model  ACC Mean  Recall Mean   F Score\n",
       "5    ADA  0.771775     0.911601  0.800237\n",
       "6     GB  0.771646     0.911372  0.800106\n",
       "4     RF  0.770511     0.905556  0.797796\n",
       "7    ETC  0.765093     0.894752  0.793077\n",
       "0  Logic  0.743867     0.920198  0.782757\n",
       "1    LDA  0.743867     0.920198  0.782757\n",
       "3    KNN  0.709477     0.769835  0.726576\n",
       "2   CART  0.649881     0.646427  0.648927"
      ]
     },
     "execution_count": 173,
     "metadata": {},
     "output_type": "execute_result"
    }
   ],
   "source": [
    "# Calling and running the models\n",
    "r = model_selection(X_train, y_train, X_test)\n",
    "r[0]"
   ]
  },
  {
   "cell_type": "code",
   "execution_count": 174,
   "id": "3a3a633a",
   "metadata": {},
   "outputs": [],
   "source": [
    "def summarize_results(scores, params, title):\n",
    "    # boxplot of scores\n",
    "    #fig = pyplot.figure()\n",
    "    plt.boxplot(scores, labels=params)\n",
    "    plt.xlabel('models')\n",
    "    plt.ylabel('f_score')\n",
    "    plt.title(title)\n",
    "    plt"
   ]
  },
  {
   "cell_type": "code",
   "execution_count": 175,
   "id": "018e759c",
   "metadata": {},
   "outputs": [
    {
     "data": {
      "image/png": "[encoded data removed]",
      "text/plain": [
       "<Figure size 432x288 with 1 Axes>"
      ]
     },
     "metadata": {},
     "output_type": "display_data"
    }
   ],
   "source": [
    "summarize_results(r[3], r[4],'F_Score')"
   ]
  },
  {
   "cell_type": "code",
   "execution_count": 176,
   "id": "caa82dd1",
   "metadata": {},
   "outputs": [],
   "source": [
    "# # Creating pickle file to save models' result from the training Dataset\n",
    "# with open('model_results1', 'wb') as file:\n",
    "#     pickle.dump(r, file)\n",
    "\n",
    "# #Calling the pickle file saved for model results\n",
    "# with open('model_results1', 'rb') as file:\n",
    "#     modelResults1 = pickle.load(file)"
   ]
  },
  {
   "cell_type": "code",
   "execution_count": 34,
   "id": "28fe127c",
   "metadata": {},
   "outputs": [],
   "source": [
    "# Dataframe of test predictions for the base models(8 models)\n",
    "pred_Ytest = pd.DataFrame(modelResults1[5][0]).T.reset_index()\n",
    "for i in range(1,8):\n",
    "    pred = pd.DataFrame(modelResults1[5][i]).T.reset_index()\n",
    "    pred_Ytest = pd.merge(pred_Ytest, pred, how = 'left', on = 'index')"
   ]
  },
  {
   "cell_type": "code",
   "execution_count": 35,
   "id": "65b152b6",
   "metadata": {},
   "outputs": [
    {
     "data": {
      "text/html": [
       "<div>\n",
       "<style scoped>\n",
       "    .dataframe tbody tr th:only-of-type {\n",
       "        vertical-align: middle;\n",
       "    }\n",
       "\n",
       "    .dataframe tbody tr th {\n",
       "        vertical-align: top;\n",
       "    }\n",
       "\n",
       "    .dataframe thead th {\n",
       "        text-align: right;\n",
       "    }\n",
       "</style>\n",
       "<table border=\"1\" class=\"dataframe\">\n",
       "  <thead>\n",
       "    <tr style=\"text-align: right;\">\n",
       "      <th></th>\n",
       "      <th>Logic</th>\n",
       "      <th>LDA</th>\n",
       "      <th>CART</th>\n",
       "      <th>KNN</th>\n",
       "      <th>RF</th>\n",
       "      <th>ADA</th>\n",
       "      <th>GB</th>\n",
       "      <th>ETC</th>\n",
       "      <th>Ytest</th>\n",
       "    </tr>\n",
       "  </thead>\n",
       "  <tbody>\n",
       "    <tr>\n",
       "      <th>0</th>\n",
       "      <td>0</td>\n",
       "      <td>0</td>\n",
       "      <td>0</td>\n",
       "      <td>0</td>\n",
       "      <td>0</td>\n",
       "      <td>0</td>\n",
       "      <td>0</td>\n",
       "      <td>0</td>\n",
       "      <td>0</td>\n",
       "    </tr>\n",
       "    <tr>\n",
       "      <th>1</th>\n",
       "      <td>0</td>\n",
       "      <td>0</td>\n",
       "      <td>0</td>\n",
       "      <td>0</td>\n",
       "      <td>0</td>\n",
       "      <td>0</td>\n",
       "      <td>0</td>\n",
       "      <td>0</td>\n",
       "      <td>0</td>\n",
       "    </tr>\n",
       "    <tr>\n",
       "      <th>2</th>\n",
       "      <td>1</td>\n",
       "      <td>1</td>\n",
       "      <td>0</td>\n",
       "      <td>0</td>\n",
       "      <td>1</td>\n",
       "      <td>1</td>\n",
       "      <td>1</td>\n",
       "      <td>1</td>\n",
       "      <td>0</td>\n",
       "    </tr>\n",
       "    <tr>\n",
       "      <th>3</th>\n",
       "      <td>0</td>\n",
       "      <td>0</td>\n",
       "      <td>0</td>\n",
       "      <td>0</td>\n",
       "      <td>0</td>\n",
       "      <td>0</td>\n",
       "      <td>0</td>\n",
       "      <td>0</td>\n",
       "      <td>0</td>\n",
       "    </tr>\n",
       "    <tr>\n",
       "      <th>4</th>\n",
       "      <td>1</td>\n",
       "      <td>1</td>\n",
       "      <td>1</td>\n",
       "      <td>1</td>\n",
       "      <td>1</td>\n",
       "      <td>1</td>\n",
       "      <td>1</td>\n",
       "      <td>1</td>\n",
       "      <td>1</td>\n",
       "    </tr>\n",
       "    <tr>\n",
       "      <th>...</th>\n",
       "      <td>...</td>\n",
       "      <td>...</td>\n",
       "      <td>...</td>\n",
       "      <td>...</td>\n",
       "      <td>...</td>\n",
       "      <td>...</td>\n",
       "      <td>...</td>\n",
       "      <td>...</td>\n",
       "      <td>...</td>\n",
       "    </tr>\n",
       "    <tr>\n",
       "      <th>23212</th>\n",
       "      <td>0</td>\n",
       "      <td>0</td>\n",
       "      <td>0</td>\n",
       "      <td>0</td>\n",
       "      <td>0</td>\n",
       "      <td>0</td>\n",
       "      <td>0</td>\n",
       "      <td>0</td>\n",
       "      <td>0</td>\n",
       "    </tr>\n",
       "    <tr>\n",
       "      <th>23213</th>\n",
       "      <td>1</td>\n",
       "      <td>1</td>\n",
       "      <td>1</td>\n",
       "      <td>1</td>\n",
       "      <td>1</td>\n",
       "      <td>1</td>\n",
       "      <td>1</td>\n",
       "      <td>1</td>\n",
       "      <td>1</td>\n",
       "    </tr>\n",
       "    <tr>\n",
       "      <th>23214</th>\n",
       "      <td>0</td>\n",
       "      <td>0</td>\n",
       "      <td>0</td>\n",
       "      <td>0</td>\n",
       "      <td>0</td>\n",
       "      <td>0</td>\n",
       "      <td>0</td>\n",
       "      <td>0</td>\n",
       "      <td>0</td>\n",
       "    </tr>\n",
       "    <tr>\n",
       "      <th>23215</th>\n",
       "      <td>1</td>\n",
       "      <td>1</td>\n",
       "      <td>0</td>\n",
       "      <td>1</td>\n",
       "      <td>1</td>\n",
       "      <td>1</td>\n",
       "      <td>1</td>\n",
       "      <td>1</td>\n",
       "      <td>1</td>\n",
       "    </tr>\n",
       "    <tr>\n",
       "      <th>23216</th>\n",
       "      <td>1</td>\n",
       "      <td>1</td>\n",
       "      <td>1</td>\n",
       "      <td>0</td>\n",
       "      <td>1</td>\n",
       "      <td>1</td>\n",
       "      <td>1</td>\n",
       "      <td>1</td>\n",
       "      <td>1</td>\n",
       "    </tr>\n",
       "  </tbody>\n",
       "</table>\n",
       "<p>23217 rows × 9 columns</p>\n",
       "</div>"
      ],
      "text/plain": [
       "       Logic  LDA  CART  KNN  RF  ADA  GB  ETC Ytest\n",
       "0          0    0     0    0   0    0   0    0     0\n",
       "1          0    0     0    0   0    0   0    0     0\n",
       "2          1    1     0    0   1    1   1    1     0\n",
       "3          0    0     0    0   0    0   0    0     0\n",
       "4          1    1     1    1   1    1   1    1     1\n",
       "...      ...  ...   ...  ...  ..  ...  ..  ...   ...\n",
       "23212      0    0     0    0   0    0   0    0     0\n",
       "23213      1    1     1    1   1    1   1    1     1\n",
       "23214      0    0     0    0   0    0   0    0     0\n",
       "23215      1    1     0    1   1    1   1    1     1\n",
       "23216      1    1     1    0   1    1   1    1     1\n",
       "\n",
       "[23217 rows x 9 columns]"
      ]
     },
     "execution_count": 35,
     "metadata": {},
     "output_type": "execute_result"
    }
   ],
   "source": [
    "# Droping index columm, renaming the columns appropriately and adding true y_test\n",
    "pred_Ytest.drop(\"index\", axis = 1, inplace = True)\n",
    "pred_Ytest.columns = ['Logic','LDA','CART','KNN', 'RF','ADA', 'GB', 'ETC']\n",
    "pred_Ytest['Ytest'] = y_test.reset_index(drop=True)\n",
    "pred_Ytest"
   ]
  },
  {
   "cell_type": "markdown",
   "id": "97677c9c",
   "metadata": {},
   "source": [
    "### Plotting Confusion Matrices for test data using the best three(3)  trained models"
   ]
  },
  {
   "cell_type": "code",
   "execution_count": 177,
   "id": "315c5b25",
   "metadata": {},
   "outputs": [],
   "source": [
    "#Run the first three models to validate their performances and stability on the test data\n",
    "fmodels = []\n",
    "fmodels.append(('GradientBoosting', GradientBoostingClassifier()))\n",
    "fmodels.append(('ADABoost', AdaBoostClassifier()))\n",
    "fmodels.append(('RandomForest', RandomForestClassifier()))"
   ]
  },
  {
   "cell_type": "code",
   "execution_count": 178,
   "id": "bd7e255e",
   "metadata": {},
   "outputs": [],
   "source": [
    "# Confusion matrix function\n",
    "def plot_cm(y_true, y_pred, class_names):\n",
    "    cm = confusion_matrix(y_true, y_pred)\n",
    "    fig, ax = plt.subplots(figsize=(8, 6)) \n",
    "\n",
    "    ax = sns.heatmap(\n",
    "      cm, \n",
    "      annot=True, \n",
    "      fmt=\"d\",\n",
    "      cmap=sns.diverging_palette(220, 20, n=7),\n",
    "      ax=ax\n",
    "    )\n",
    "    sns.set(font_scale=1)\n",
    "    plt.title(name)\n",
    "    plt.ylabel('True Label')\n",
    "    plt.xlabel('Predicted Label')\n",
    "    ax.set_xticklabels(class_names)\n",
    "    ax.set_yticklabels(class_names)\n",
    "    plt.xticks(rotation=90)\n",
    "    plt.yticks(rotation=0)\n",
    "    b, t = plt.ylim() # discover the values for bottom and top\n",
    "    b += 0.5 # Add 0.5 to the bottom\n",
    "    t -= 0.5 # Subtract 0.5 from the top\n",
    "    plt.ylim(b, t) # update the ylim(bottom, top) values\n",
    "    plt.show() # ta-da!"
   ]
  },
  {
   "cell_type": "code",
   "execution_count": 179,
   "id": "ed145e31",
   "metadata": {
    "scrolled": false
   },
   "outputs": [
    {
     "data": {
      "image/png": "[encoded data removed]",
      "text/plain": [
       "<Figure size 576x432 with 2 Axes>"
      ]
     },
     "metadata": {},
     "output_type": "display_data"
    },
    {
     "name": "stdout",
     "output_type": "stream",
     "text": [
      "\n",
      "\n",
      "Classification Report:\n",
      "============================================================\n",
      "              precision    recall  f1-score   support\n",
      "\n",
      "           0   0.876701  0.628485  0.732127     11585\n",
      "           1   0.710947  0.911800  0.798943     11610\n",
      "\n",
      "    accuracy                       0.770295     23195\n",
      "   macro avg   0.793824  0.770143  0.765535     23195\n",
      "weighted avg   0.793735  0.770295  0.765571     23195\n",
      "\n"
     ]
    },
    {
     "data": {
      "image/png": "[encoded data removed]",
      "text/plain": [
       "<Figure size 576x432 with 2 Axes>"
      ]
     },
     "metadata": {},
     "output_type": "display_data"
    },
    {
     "name": "stdout",
     "output_type": "stream",
     "text": [
      "\n",
      "\n",
      "Classification Report:\n",
      "============================================================\n",
      "              precision    recall  f1-score   support\n",
      "\n",
      "           0   0.877064  0.628140  0.732019     11585\n",
      "           1   0.710834  0.912145  0.799004     11610\n",
      "\n",
      "    accuracy                       0.770295     23195\n",
      "   macro avg   0.793949  0.770142  0.765511     23195\n",
      "weighted avg   0.793859  0.770295  0.765548     23195\n",
      "\n"
     ]
    },
    {
     "data": {
      "image/png": "[encoded data removed]",
      "text/plain": [
       "<Figure size 576x432 with 2 Axes>"
      ]
     },
     "metadata": {},
     "output_type": "display_data"
    },
    {
     "name": "stdout",
     "output_type": "stream",
     "text": [
      "\n",
      "\n",
      "Classification Report:\n",
      "============================================================\n",
      "              precision    recall  f1-score   support\n",
      "\n",
      "           0   0.869943  0.631075  0.731502     11585\n",
      "           1   0.711040  0.905857  0.796712     11610\n",
      "\n",
      "    accuracy                       0.768614     23195\n",
      "   macro avg   0.790492  0.768466  0.764107     23195\n",
      "weighted avg   0.790406  0.768614  0.764142     23195\n",
      "\n"
     ]
    }
   ],
   "source": [
    "for name, models in fmodels:   \n",
    "    ##Labeling the target feature classes\n",
    "    le = preprocessing.LabelEncoder()\n",
    "    y_test = le.fit_transform(y_test)\n",
    "    ## Predicting with the best parameter\n",
    "    model = models.fit(X_train, y_train)\n",
    "    y_pred = model.predict(X_test) \n",
    "\n",
    "    ## plot the confusion matrix\n",
    "    plot_cm(y_test, y_pred, le.classes_)\n",
    "    \n",
    "    ## Print Classification results\n",
    "    print()\n",
    "    print()\n",
    "    print('Classification Report:')\n",
    "    print('===' * 20)\n",
    "    #print(classification_report(y_test, y_pred))\n",
    "    cols = [str(classes) for classes in le.classes_]\n",
    "    print(classification_report(y_test, y_pred, target_names = cols, digits=6))"
   ]
  },
  {
   "cell_type": "markdown",
   "id": "6f680fcf",
   "metadata": {},
   "source": [
    "## Model Parameter tunning using grid search"
   ]
  },
  {
   "cell_type": "code",
   "execution_count": 180,
   "id": "72cd7ca5",
   "metadata": {},
   "outputs": [
    {
     "data": {
      "text/plain": [
       "{'ccp_alpha': 0.0,\n",
       " 'criterion': 'friedman_mse',\n",
       " 'init': None,\n",
       " 'learning_rate': 0.1,\n",
       " 'loss': 'deviance',\n",
       " 'max_depth': 3,\n",
       " 'max_features': None,\n",
       " 'max_leaf_nodes': None,\n",
       " 'min_impurity_decrease': 0.0,\n",
       " 'min_impurity_split': None,\n",
       " 'min_samples_leaf': 1,\n",
       " 'min_samples_split': 2,\n",
       " 'min_weight_fraction_leaf': 0.0,\n",
       " 'n_estimators': 100,\n",
       " 'n_iter_no_change': None,\n",
       " 'random_state': None,\n",
       " 'subsample': 1.0,\n",
       " 'tol': 0.0001,\n",
       " 'validation_fraction': 0.1,\n",
       " 'verbose': 0,\n",
       " 'warm_start': False}"
      ]
     },
     "execution_count": 180,
     "metadata": {},
     "output_type": "execute_result"
    }
   ],
   "source": [
    "#1. Get the GradientBoosting model parameters\n",
    "GB_model = GradientBoostingClassifier()\n",
    "GB_model.get_params()"
   ]
  },
  {
   "cell_type": "code",
   "execution_count": null,
   "id": "6bf3918e",
   "metadata": {},
   "outputs": [],
   "source": [
    "param_grid = {'ccp_alpha': [0.0],\n",
    "             'criterion': ['friedman_mse'], 'init': [None],'learning_rate': [0.1,0.3,0.4], 'loss': ['deviance'],\n",
    "              'max_depth': [3,5,10], 'max_features': [None,'sqrt'], 'max_leaf_nodes':[None], 'min_impurity_decrease': [0.0],\n",
    "              'min_impurity_split': [None], 'min_samples_leaf': [1], 'min_samples_split': [2,5,10,50], 'min_weight_fraction_leaf':[0.0],\n",
    "              'n_estimators': [100], 'n_iter_no_change': [None], 'random_state': [10], 'subsample': [1.0, 0.8, 0.7],'tol': [0.0001], \n",
    "              'validation_fraction': [0.1], 'verbose': [0],'warm_start': [False, True]\n",
    "             }\n",
    "grid = GridSearchCV(GB_model, param_grid = param_grid)\n",
    "grid.fit(X_train, y_train)"
   ]
  },
  {
   "cell_type": "code",
   "execution_count": 50,
   "id": "c44bf45d",
   "metadata": {},
   "outputs": [],
   "source": [
    "grid.best_params_ "
   ]
  },
  {
   "cell_type": "markdown",
   "id": "243050dd",
   "metadata": {},
   "source": [
    "{'ccp_alpha': 0.0,\n",
    " 'criterion': 'friedman_mse',\n",
    " 'init': None,\n",
    " 'learning_rate': 0.1,\n",
    " 'loss': 'deviance',\n",
    " 'max_depth': 3,\n",
    " 'max_features': None,\n",
    " 'max_leaf_nodes': None,\n",
    " 'min_impurity_decrease': 0.0,\n",
    " 'min_impurity_split': None,\n",
    " 'min_samples_leaf': 1,\n",
    " 'min_samples_split': 50,\n",
    " 'min_weight_fraction_leaf': 0.0,\n",
    " 'n_estimators': 100,\n",
    " 'n_iter_no_change': None,\n",
    " 'random_state': 10,\n",
    " 'subsample': 0.8,\n",
    " 'tol': 0.0001,\n",
    " 'validation_fraction': 0.1,\n",
    " 'verbose': 0,\n",
    " 'warm_start': False}"
   ]
  },
  {
   "cell_type": "code",
   "execution_count": 181,
   "id": "c714ffbd",
   "metadata": {},
   "outputs": [],
   "source": [
    "final_modelG = grid.best_estimator_\n",
    "# final_modelG = GradientBoostingClassifier(min_samples_split=50, random_state=10, subsample=0.8).fit(X_train, y_train)"
   ]
  },
  {
   "cell_type": "markdown",
   "id": "8d5c650e",
   "metadata": {},
   "source": [
    "final_modelG = GradientBoostingClassifier(min_samples_split=50, random_state=10, subsample=0.8).fit(X_train, y_train)"
   ]
  },
  {
   "cell_type": "code",
   "execution_count": 182,
   "id": "534e5bfe",
   "metadata": {},
   "outputs": [
    {
     "data": {
      "image/png": "[encoded data removed]",
      "text/plain": [
       "<Figure size 576x432 with 2 Axes>"
      ]
     },
     "metadata": {},
     "output_type": "display_data"
    },
    {
     "name": "stdout",
     "output_type": "stream",
     "text": [
      "\n",
      "\n",
      "Classification Report:\n",
      "============================================================\n",
      "              precision    recall  f1-score   support\n",
      "\n",
      "           0   0.877094  0.628312  0.732146     11585\n",
      "           1   0.710929  0.912145  0.799064     11610\n",
      "\n",
      "    accuracy                       0.770382     23195\n",
      "   macro avg   0.794011  0.770229  0.765605     23195\n",
      "weighted avg   0.793922  0.770382  0.765641     23195\n",
      "\n"
     ]
    }
   ],
   "source": [
    "## Labeling the target feature classes\n",
    "le = preprocessing.LabelEncoder()\n",
    "y_test = le.fit_transform(y_test)\n",
    "\n",
    "## Predicting with the best parameter\n",
    "y_pred = final_modelG.predict(X_test)\n",
    "\n",
    "## plot the confusion matrix\n",
    "name = \"GradientBoosting\" # Title\n",
    "plot_cm(y_test, y_pred, le.classes_)\n",
    "\n",
    "print()\n",
    "print()\n",
    "print('Classification Report:')\n",
    "print('===' * 20)\n",
    "#print(classification_report(y_test, y_pred))\n",
    "\n",
    "cols = [str(classes) for classes in le.classes_]\n",
    "\n",
    "print(classification_report(y_test, y_pred, target_names = cols, digits=6))"
   ]
  },
  {
   "cell_type": "code",
   "execution_count": 183,
   "id": "96f62f23",
   "metadata": {},
   "outputs": [
    {
     "data": {
      "text/plain": [
       "{'algorithm': 'SAMME.R',\n",
       " 'base_estimator': None,\n",
       " 'learning_rate': 1.0,\n",
       " 'n_estimators': 50,\n",
       " 'random_state': None}"
      ]
     },
     "execution_count": 183,
     "metadata": {},
     "output_type": "execute_result"
    }
   ],
   "source": [
    "#2. Get the AdaBoost model parameters \n",
    "ADA_model = AdaBoostClassifier()\n",
    "ADA_model.get_params()"
   ]
  },
  {
   "cell_type": "code",
   "execution_count": null,
   "id": "8a9efed4",
   "metadata": {},
   "outputs": [],
   "source": [
    "param_grid ={\n",
    "            'algorithm': ['SAMME.R', 'SAMME'],\n",
    "            'base_estimator': [None],\n",
    "            'learning_rate': [0.5, 0.09, 0.95, 0.96, 0.97, 0.98, 0.99, 1.0],\n",
    "            'n_estimators': [10, 50,60, 80, 100, 500],\n",
    "            'random_state': [None,10]\n",
    "            }\n",
    "grid = GridSearchCV(ADA_model, param_grid = param_grid)\n",
    "grid.fit(X_train, y_train)"
   ]
  },
  {
   "cell_type": "code",
   "execution_count": null,
   "id": "6a79f5d5",
   "metadata": {},
   "outputs": [],
   "source": [
    "grid.best_params_"
   ]
  },
  {
   "cell_type": "markdown",
   "id": "acbc48b9",
   "metadata": {},
   "source": [
    "{'algorithm': 'SAMME.R',\n",
    " 'base_estimator': None,\n",
    " 'learning_rate': 0.5,\n",
    " 'n_estimators': 10,\n",
    " 'random_state': None}"
   ]
  },
  {
   "cell_type": "code",
   "execution_count": 184,
   "id": "b7eca9a0",
   "metadata": {},
   "outputs": [],
   "source": [
    "final_modelA = grid.best_estimator_\n",
    "# final_modelA = AdaBoostClassifier(learning_rate=0.5, n_estimators=10).fit(X_train, y_train)"
   ]
  },
  {
   "cell_type": "code",
   "execution_count": 185,
   "id": "337de8ba",
   "metadata": {},
   "outputs": [
    {
     "data": {
      "image/png": "[encoded data removed]",
      "text/plain": [
       "<Figure size 576x432 with 2 Axes>"
      ]
     },
     "metadata": {},
     "output_type": "display_data"
    },
    {
     "name": "stdout",
     "output_type": "stream",
     "text": [
      "\n",
      "\n",
      "Classification Report:\n",
      "============================================================\n",
      "              precision    recall  f1-score   support\n",
      "\n",
      "           0   0.877290  0.628226  0.732156     11585\n",
      "           1   0.710920  0.912317  0.799125     11610\n",
      "\n",
      "    accuracy                       0.770425     23195\n",
      "   macro avg   0.794105  0.770272  0.765641     23195\n",
      "weighted avg   0.794016  0.770425  0.765677     23195\n",
      "\n"
     ]
    }
   ],
   "source": [
    "## Labeling the target feature classes\n",
    "le = preprocessing.LabelEncoder()\n",
    "y_test = le.fit_transform(y_test)\n",
    "\n",
    "## Predicting with the best parameter\n",
    "y_pred = final_modelA.predict(X_test)\n",
    "\n",
    "## plot the confusion matrix\n",
    "name = \"AdaBoost\" #Title\n",
    "plot_cm(y_test, y_pred, le.classes_)\n",
    "\n",
    "print()\n",
    "print()\n",
    "print('Classification Report:')\n",
    "print('===' * 20)\n",
    "#print(classification_report(y_test, y_pred))\n",
    "\n",
    "cols = [str(classes) for classes in le.classes_]\n",
    "\n",
    "print(classification_report(y_test, y_pred, target_names = cols, digits=6))"
   ]
  },
  {
   "cell_type": "code",
   "execution_count": null,
   "id": "0ffd583f",
   "metadata": {},
   "outputs": [],
   "source": [
    "#3 Get the Random Forest model parameters \n",
    "RF_model = RandomForestClassifier()\n",
    "RF_model.get_params()"
   ]
  },
  {
   "cell_type": "code",
   "execution_count": null,
   "id": "928fa5e1",
   "metadata": {},
   "outputs": [],
   "source": [
    "# Number of trees in random forest\n",
    "n_estimators = [int(x) for x in np.linspace(start = 100, stop = 500, num =5 )]\n",
    "# Number of features to consider at every split\n",
    "max_features = ['auto', 'sqrt']\n",
    "# Maximum number of levels in tree\n",
    "max_depth = [int(x) for x in np.linspace(10, 50, num = 5)]\n",
    "max_depth.append(None)\n",
    "# Minimum number of samples required to split a node\n",
    "min_samples_split = [2, 5, 10]\n",
    "# Minimum number of samples required at each leaf node\n",
    "min_samples_leaf = [2, 4]\n",
    "# Method of selecting samples for training each tree\n",
    "bootstrap = [True, False]\n",
    "\n",
    "\n",
    "# Create the random grid\n",
    "param_grid = {'n_estimators': n_estimators,\n",
    "               'max_features': max_features,\n",
    "               'max_depth': max_depth,\n",
    "               'min_samples_split': min_samples_split,\n",
    "               'min_samples_leaf': min_samples_leaf,\n",
    "               'bootstrap': bootstrap}\n",
    "\n",
    "param_grid"
   ]
  },
  {
   "cell_type": "code",
   "execution_count": null,
   "id": "acdaf52e",
   "metadata": {},
   "outputs": [],
   "source": [
    "grid = GridSearchCV(RF_model, param_grid = param_grid)\n",
    "grid.fit(X_train, y_train)"
   ]
  },
  {
   "cell_type": "code",
   "execution_count": null,
   "id": "d9bcb369",
   "metadata": {},
   "outputs": [],
   "source": [
    "grid.best_params_"
   ]
  },
  {
   "cell_type": "code",
   "execution_count": null,
   "id": "e857de68",
   "metadata": {},
   "outputs": [],
   "source": [
    "final_modelR = grid.best_estimator_"
   ]
  },
  {
   "cell_type": "code",
   "execution_count": null,
   "id": "90a86774",
   "metadata": {},
   "outputs": [],
   "source": [
    "## Labeling the target feature classes\n",
    "le = preprocessing.LabelEncoder()\n",
    "y_test = le.fit_transform(y_test)\n",
    "\n",
    "## Predicting with the best parameter\n",
    "y_pred = final_modelR.predict(X_test)\n",
    "\n",
    "## plot the confusion matrix\n",
    "name = \"Random Forest\"  #Title\n",
    "plot_cm(y_test, y_pred, le.classes_)\n",
    "print()\n",
    "print()\n",
    "print('Classification Report:')\n",
    "print('===' * 20)\n",
    "#print(classification_report(y_test, y_pred))\n",
    "\n",
    "cols = [str(classes) for classes in le.classes_]\n",
    "\n",
    "print(classification_report(y_test, y_pred, target_names = cols, digits=6))"
   ]
  },
  {
   "cell_type": "markdown",
   "id": "87a30eb8",
   "metadata": {},
   "source": [
    "### Predict a new target feature (loan_granted) for the entire dataset using the best model (GBoosting)"
   ]
  },
  {
   "cell_type": "code",
   "execution_count": 186,
   "id": "35752f77",
   "metadata": {},
   "outputs": [],
   "source": [
    "##Gradient Boosting Classifier\n",
    "final_modelG = GradientBoostingClassifier(min_samples_split=50, random_state=10, subsample=0.8).fit(X_train, y_train)\n",
    "Y_pred = final_modelG.predict(X)"
   ]
  },
  {
   "cell_type": "code",
   "execution_count": 187,
   "id": "deb3af9e",
   "metadata": {},
   "outputs": [],
   "source": [
    "credit_data4[\"New_loan_granted\"] = pd.DataFrame(Y_pred)"
   ]
  },
  {
   "cell_type": "code",
   "execution_count": 188,
   "id": "c394e4d4",
   "metadata": {},
   "outputs": [],
   "source": [
    "## Dropping the initial loan_granted for the newly predicted one\n",
    "credit_data4 = credit_data4.drop([\"loan_granted\"], axis = 1)"
   ]
  },
  {
   "cell_type": "code",
   "execution_count": 190,
   "id": "21710841",
   "metadata": {},
   "outputs": [
    {
     "data": {
      "text/plain": [
       "1    59497\n",
       "0    33283\n",
       "Name: New_loan_granted, dtype: int64"
      ]
     },
     "execution_count": 190,
     "metadata": {},
     "output_type": "execute_result"
    }
   ],
   "source": [
    "credit_data4[\"New_loan_granted\"].value_counts()"
   ]
  },
  {
   "cell_type": "markdown",
   "id": "94f6c313",
   "metadata": {},
   "source": [
    "* Improved output over the bank model\n",
    "* More loans are granted"
   ]
  },
  {
   "cell_type": "markdown",
   "id": "8209893f",
   "metadata": {},
   "source": [
    "## Creating the required dataset to the modeling loan repaid using the new loan granted feature as one of the features"
   ]
  },
  {
   "cell_type": "code",
   "execution_count": 191,
   "id": "0774f680",
   "metadata": {},
   "outputs": [],
   "source": [
    "y2 = credit_data4[\"loan_repaid\"]\n",
    "x2 = credit_data4.drop([\"loan_repaid\"], axis = 1)"
   ]
  },
  {
   "cell_type": "code",
   "execution_count": 217,
   "id": "7d61ce08",
   "metadata": {},
   "outputs": [
    {
     "data": {
      "text/plain": [
       "2    46278\n",
       "1    30478\n",
       "0    16024\n",
       "Name: loan_repaid, dtype: int64"
      ]
     },
     "execution_count": 217,
     "metadata": {},
     "output_type": "execute_result"
    }
   ],
   "source": [
    "y2.value_counts()"
   ]
  },
  {
   "cell_type": "code",
   "execution_count": 192,
   "id": "93434b68",
   "metadata": {},
   "outputs": [
    {
     "data": {
      "text/html": [
       "<div>\n",
       "<style scoped>\n",
       "    .dataframe tbody tr th:only-of-type {\n",
       "        vertical-align: middle;\n",
       "    }\n",
       "\n",
       "    .dataframe tbody tr th {\n",
       "        vertical-align: top;\n",
       "    }\n",
       "\n",
       "    .dataframe thead th {\n",
       "        text-align: right;\n",
       "    }\n",
       "</style>\n",
       "<table border=\"1\" class=\"dataframe\">\n",
       "  <thead>\n",
       "    <tr style=\"text-align: right;\">\n",
       "      <th></th>\n",
       "      <th>feature</th>\n",
       "      <th>measure</th>\n",
       "    </tr>\n",
       "  </thead>\n",
       "  <tbody>\n",
       "    <tr>\n",
       "      <th>3</th>\n",
       "      <td>saving_amount</td>\n",
       "      <td>0.160079</td>\n",
       "    </tr>\n",
       "    <tr>\n",
       "      <th>4</th>\n",
       "      <td>checking_amount</td>\n",
       "      <td>0.150615</td>\n",
       "    </tr>\n",
       "    <tr>\n",
       "      <th>6</th>\n",
       "      <td>yearly_salary</td>\n",
       "      <td>0.145194</td>\n",
       "    </tr>\n",
       "    <tr>\n",
       "      <th>1</th>\n",
       "      <td>TCC_Limit</td>\n",
       "      <td>0.102654</td>\n",
       "    </tr>\n",
       "    <tr>\n",
       "      <th>2</th>\n",
       "      <td>Avg_CCL</td>\n",
       "      <td>0.100220</td>\n",
       "    </tr>\n",
       "    <tr>\n",
       "      <th>20</th>\n",
       "      <td>New_loan_granted</td>\n",
       "      <td>0.085373</td>\n",
       "    </tr>\n",
       "    <tr>\n",
       "      <th>7</th>\n",
       "      <td>age</td>\n",
       "      <td>0.084752</td>\n",
       "    </tr>\n",
       "    <tr>\n",
       "      <th>5</th>\n",
       "      <td>is_employed</td>\n",
       "      <td>0.066043</td>\n",
       "    </tr>\n",
       "    <tr>\n",
       "      <th>8</th>\n",
       "      <td>dependent_number</td>\n",
       "      <td>0.046260</td>\n",
       "    </tr>\n",
       "    <tr>\n",
       "      <th>13</th>\n",
       "      <td>CRO_Loans_1</td>\n",
       "      <td>0.008734</td>\n",
       "    </tr>\n",
       "    <tr>\n",
       "      <th>17</th>\n",
       "      <td>loan_purpose_home</td>\n",
       "      <td>0.007031</td>\n",
       "    </tr>\n",
       "    <tr>\n",
       "      <th>15</th>\n",
       "      <td>loan_purpose_business</td>\n",
       "      <td>0.006807</td>\n",
       "    </tr>\n",
       "    <tr>\n",
       "      <th>18</th>\n",
       "      <td>loan_purpose_investment</td>\n",
       "      <td>0.006757</td>\n",
       "    </tr>\n",
       "    <tr>\n",
       "      <th>16</th>\n",
       "      <td>loan_purpose_emergency_funds</td>\n",
       "      <td>0.006374</td>\n",
       "    </tr>\n",
       "    <tr>\n",
       "      <th>19</th>\n",
       "      <td>loan_purpose_other</td>\n",
       "      <td>0.005992</td>\n",
       "    </tr>\n",
       "    <tr>\n",
       "      <th>12</th>\n",
       "      <td>CRO_Loans_0</td>\n",
       "      <td>0.004825</td>\n",
       "    </tr>\n",
       "    <tr>\n",
       "      <th>10</th>\n",
       "      <td>FRP_Loans_1</td>\n",
       "      <td>0.003348</td>\n",
       "    </tr>\n",
       "    <tr>\n",
       "      <th>9</th>\n",
       "      <td>FRP_Loans_0</td>\n",
       "      <td>0.002569</td>\n",
       "    </tr>\n",
       "    <tr>\n",
       "      <th>14</th>\n",
       "      <td>CRO_Loans_2</td>\n",
       "      <td>0.002228</td>\n",
       "    </tr>\n",
       "    <tr>\n",
       "      <th>0</th>\n",
       "      <td>is_first_loan</td>\n",
       "      <td>0.002076</td>\n",
       "    </tr>\n",
       "    <tr>\n",
       "      <th>11</th>\n",
       "      <td>FRP_Loans_2</td>\n",
       "      <td>0.002070</td>\n",
       "    </tr>\n",
       "  </tbody>\n",
       "</table>\n",
       "</div>"
      ],
      "text/plain": [
       "                         feature   measure\n",
       "3                  saving_amount  0.160079\n",
       "4                checking_amount  0.150615\n",
       "6                  yearly_salary  0.145194\n",
       "1                      TCC_Limit  0.102654\n",
       "2                        Avg_CCL  0.100220\n",
       "20              New_loan_granted  0.085373\n",
       "7                            age  0.084752\n",
       "5                    is_employed  0.066043\n",
       "8               dependent_number  0.046260\n",
       "13                   CRO_Loans_1  0.008734\n",
       "17             loan_purpose_home  0.007031\n",
       "15         loan_purpose_business  0.006807\n",
       "18       loan_purpose_investment  0.006757\n",
       "16  loan_purpose_emergency_funds  0.006374\n",
       "19            loan_purpose_other  0.005992\n",
       "12                   CRO_Loans_0  0.004825\n",
       "10                   FRP_Loans_1  0.003348\n",
       "9                    FRP_Loans_0  0.002569\n",
       "14                   CRO_Loans_2  0.002228\n",
       "0                  is_first_loan  0.002076\n",
       "11                   FRP_Loans_2  0.002070"
      ]
     },
     "execution_count": 192,
     "metadata": {},
     "output_type": "execute_result"
    }
   ],
   "source": [
    "## Identifying important features in the New dataset using Random forest\n",
    "modelRF = RandomForestClassifier()\n",
    "modelRF.fit(x2, y2)\n",
    "\n",
    "FImportance = pd.DataFrame(modelRF.feature_importances_, x2.columns).reset_index()\n",
    "FImportance.columns =['feature', 'measure']\n",
    "FImportance= FImportance.sort_values('measure', ascending=False)\n",
    "FImportance"
   ]
  },
  {
   "cell_type": "code",
   "execution_count": 193,
   "id": "fac4cb64",
   "metadata": {},
   "outputs": [
    {
     "name": "stdout",
     "output_type": "stream",
     "text": [
      "Features Variance inflation factor: \n",
      "\n",
      "const                           0.000000e+00\n",
      "is_first_loan                            inf\n",
      "TCC_Limit                       1.109852e+00\n",
      "Avg_CCL                         1.171973e+00\n",
      "saving_amount                   1.191434e+00\n",
      "checking_amount                 1.188977e+00\n",
      "is_employed                     8.886367e+00\n",
      "yearly_salary                   2.810600e+00\n",
      "age                             1.002663e+00\n",
      "dependent_number                1.012849e+00\n",
      "FRP_Loans_0                     1.627335e+10\n",
      "FRP_Loans_1                     1.148674e+06\n",
      "FRP_Loans_2                     2.706303e+10\n",
      "CRO_Loans_0                     8.754569e+05\n",
      "CRO_Loans_1                     2.847064e+09\n",
      "CRO_Loans_2                     1.234484e+10\n",
      "loan_purpose_business           3.649387e+10\n",
      "loan_purpose_emergency_funds    4.474337e+10\n",
      "loan_purpose_home               3.091221e+10\n",
      "loan_purpose_investment         1.157971e+06\n",
      "loan_purpose_other              1.426296e+11\n",
      "New_loan_granted                7.622481e+00\n",
      "dtype: float64\n",
      "\n"
     ]
    }
   ],
   "source": [
    "## Variance inflation factor computation\n",
    "ind_features = x2.copy()\n",
    "ind_features = add_constant(ind_features).astype(float)\n",
    "\n",
    "vif = pd.Series([variance_inflation_factor(ind_features.values,i) for i in range(ind_features.shape[1])],\n",
    "                       index=ind_features.columns, dtype = float)\n",
    "print('Features Variance inflation factor: \\n\\n{}\\n'.format(vif))"
   ]
  },
  {
   "cell_type": "code",
   "execution_count": 194,
   "id": "3b0f6ad4",
   "metadata": {},
   "outputs": [],
   "source": [
    "## Due to high vif of some features, the less important features are dropped\n",
    "cols = ['is_employed','FRP_Loans_0', 'FRP_Loans_1', 'FRP_Loans_2', 'CRO_Loans_0', 'CRO_Loans_1', 'CRO_Loans_2', 'loan_purpose_other']\n",
    "X2 = x2.drop(cols, axis = 1)"
   ]
  },
  {
   "cell_type": "markdown",
   "id": "2eaa1880",
   "metadata": {},
   "source": [
    "* is_employed, FRP_Loans_0, FRP_Loans_1, FRP_Loans_2, CRO_Loans_0, CRO_Loans_1, CRO_Loans_2, and loan_purpose_other were dropped to prevent multicollinearity"
   ]
  },
  {
   "cell_type": "code",
   "execution_count": 195,
   "id": "de5d76bc",
   "metadata": {},
   "outputs": [
    {
     "name": "stdout",
     "output_type": "stream",
     "text": [
      "Features Variance inflation factor: \n",
      "\n",
      "const                           40.475415\n",
      "is_first_loan                    1.000108\n",
      "TCC_Limit                        1.104953\n",
      "Avg_CCL                          1.075708\n",
      "saving_amount                    1.179598\n",
      "checking_amount                  1.177924\n",
      "yearly_salary                    2.331568\n",
      "age                              1.002618\n",
      "dependent_number                 1.012455\n",
      "loan_purpose_business            1.920285\n",
      "loan_purpose_emergency_funds     1.784201\n",
      "loan_purpose_home                1.974408\n",
      "loan_purpose_investment          1.912909\n",
      "New_loan_granted                 2.314695\n",
      "dtype: float64\n",
      "\n"
     ]
    }
   ],
   "source": [
    "## Variance inflation factor computation\n",
    "ind_features = X2.copy()\n",
    "ind_features = add_constant(ind_features).astype(float)\n",
    "\n",
    "vif = pd.Series([variance_inflation_factor(ind_features.values,i) for i in range(ind_features.shape[1])],\n",
    "                       index=ind_features.columns, dtype = float)\n",
    "print('Features Variance inflation factor: \\n\\n{}\\n'.format(vif))"
   ]
  },
  {
   "cell_type": "code",
   "execution_count": 196,
   "id": "6623e308",
   "metadata": {},
   "outputs": [],
   "source": [
    "## Creatng the new test and train data for modeling\n",
    "X2_train, X2_test, y2_train, y2_test = train_test_split(X2,y2, test_size = 0.25, random_state = 20)"
   ]
  },
  {
   "cell_type": "code",
   "execution_count": 197,
   "id": "e41eff68",
   "metadata": {},
   "outputs": [
    {
     "name": "stdout",
     "output_type": "stream",
     "text": [
      "2    34736\n",
      "1    22759\n",
      "0    12090\n",
      "Name: loan_repaid, dtype: int64\n",
      "********************\n",
      "2    11542\n",
      "1     7719\n",
      "0     3934\n",
      "Name: loan_repaid, dtype: int64\n"
     ]
    }
   ],
   "source": [
    "print(y2_train.value_counts())\n",
    "print('*'*20)\n",
    "print(y2_test.value_counts())"
   ]
  },
  {
   "cell_type": "markdown",
   "id": "a7233dc7",
   "metadata": {},
   "source": [
    "* The target feature dataset is somewhat imbalanced"
   ]
  },
  {
   "cell_type": "code",
   "execution_count": 198,
   "id": "9d11a18b",
   "metadata": {},
   "outputs": [],
   "source": [
    "## Models to consider\n",
    "models = []\n",
    "models.append(('Logic', LogisticRegression()))\n",
    "models.append(('LDA', LinearDiscriminantAnalysis()))\n",
    "models.append(('CART', DecisionTreeClassifier()))\n",
    "models.append(('KNN', KNeighborsClassifier()))\n",
    "models.append(('RF', RandomForestClassifier()))\n",
    "models.append(('ADA', AdaBoostClassifier()))\n",
    "models.append(('GB', GradientBoostingClassifier()))\n",
    "models.append(('ETC', ExtraTreesClassifier()))"
   ]
  },
  {
   "cell_type": "code",
   "execution_count": 199,
   "id": "e40af427",
   "metadata": {},
   "outputs": [],
   "source": [
    "##Function to run 8 different models on training data using cross validation and\n",
    "## y_test was predicted using the models\n",
    "\n",
    "def model_selection(x_train, y_train, x_test):\n",
    "    acc_result = []\n",
    "    #auc_result = []\n",
    "    names = []\n",
    "      \n",
    "    j_scores = list()\n",
    "    #k_scores = list()\n",
    "    pred_ytest = list()\n",
    "\n",
    "    col = ['Model', 'ACC Mean', 'ACC Std'] #, 'AUC Mean', 'AUC Std']\n",
    "    result = pd.DataFrame(columns = col)\n",
    "\n",
    "    i=0\n",
    "    for name, model in models:\n",
    "        kfold = KFold(n_splits = 10)\n",
    "        cv_acc_result  = cross_val_score(model, x_train, y_train, cv = kfold, scoring = 'accuracy')\n",
    "        #cv_auc_result  = cross_val_score(model, x_train, y_train, cv = kfold, scoring = 'roc_auc')\n",
    "            \n",
    "        acc_result.append(cv_acc_result)\n",
    "        #auc_result.append(cv_auc_result)\n",
    "        names.append(name)\n",
    "        \n",
    "        j_scores.append(cv_acc_result)\n",
    "        #k_scores.append(cv_auc_result)        \n",
    "        \n",
    "        result.loc[i] = [name, \n",
    "                         cv_acc_result.mean(),\n",
    "                         cv_acc_result.std()]\n",
    "                         #cv_auc_result.mean(),\n",
    "                         #cv_auc_result.std()]\n",
    "        \n",
    "        model.fit(x_train, y_train)\n",
    "        y_pred = [model.predict(x_test)]\n",
    "        pred_ytest.append(y_pred)\n",
    "        \n",
    "        i+= 1\n",
    "    result = result.sort_values('ACC Mean', ascending = False)\n",
    "    return result, j_scores, names, pred_ytest   "
   ]
  },
  {
   "cell_type": "code",
   "execution_count": 200,
   "id": "cdcc757c",
   "metadata": {
    "scrolled": true
   },
   "outputs": [
    {
     "data": {
      "text/html": [
       "<div>\n",
       "<style scoped>\n",
       "    .dataframe tbody tr th:only-of-type {\n",
       "        vertical-align: middle;\n",
       "    }\n",
       "\n",
       "    .dataframe tbody tr th {\n",
       "        vertical-align: top;\n",
       "    }\n",
       "\n",
       "    .dataframe thead th {\n",
       "        text-align: right;\n",
       "    }\n",
       "</style>\n",
       "<table border=\"1\" class=\"dataframe\">\n",
       "  <thead>\n",
       "    <tr style=\"text-align: right;\">\n",
       "      <th></th>\n",
       "      <th>Model</th>\n",
       "      <th>ACC Mean</th>\n",
       "      <th>ACC Std</th>\n",
       "    </tr>\n",
       "  </thead>\n",
       "  <tbody>\n",
       "    <tr>\n",
       "      <th>6</th>\n",
       "      <td>GB</td>\n",
       "      <td>0.730574</td>\n",
       "      <td>0.004057</td>\n",
       "    </tr>\n",
       "    <tr>\n",
       "      <th>4</th>\n",
       "      <td>RF</td>\n",
       "      <td>0.727801</td>\n",
       "      <td>0.003609</td>\n",
       "    </tr>\n",
       "    <tr>\n",
       "      <th>7</th>\n",
       "      <td>ETC</td>\n",
       "      <td>0.723877</td>\n",
       "      <td>0.003117</td>\n",
       "    </tr>\n",
       "    <tr>\n",
       "      <th>1</th>\n",
       "      <td>LDA</td>\n",
       "      <td>0.720802</td>\n",
       "      <td>0.004661</td>\n",
       "    </tr>\n",
       "    <tr>\n",
       "      <th>0</th>\n",
       "      <td>Logic</td>\n",
       "      <td>0.716318</td>\n",
       "      <td>0.004231</td>\n",
       "    </tr>\n",
       "    <tr>\n",
       "      <th>5</th>\n",
       "      <td>ADA</td>\n",
       "      <td>0.691270</td>\n",
       "      <td>0.022324</td>\n",
       "    </tr>\n",
       "    <tr>\n",
       "      <th>3</th>\n",
       "      <td>KNN</td>\n",
       "      <td>0.679083</td>\n",
       "      <td>0.005361</td>\n",
       "    </tr>\n",
       "    <tr>\n",
       "      <th>2</th>\n",
       "      <td>CART</td>\n",
       "      <td>0.608220</td>\n",
       "      <td>0.007422</td>\n",
       "    </tr>\n",
       "  </tbody>\n",
       "</table>\n",
       "</div>"
      ],
      "text/plain": [
       "   Model  ACC Mean   ACC Std\n",
       "6     GB  0.730574  0.004057\n",
       "4     RF  0.727801  0.003609\n",
       "7    ETC  0.723877  0.003117\n",
       "1    LDA  0.720802  0.004661\n",
       "0  Logic  0.716318  0.004231\n",
       "5    ADA  0.691270  0.022324\n",
       "3    KNN  0.679083  0.005361\n",
       "2   CART  0.608220  0.007422"
      ]
     },
     "execution_count": 200,
     "metadata": {},
     "output_type": "execute_result"
    }
   ],
   "source": [
    "# Calling and running the models\n",
    "r = model_selection(X2_train, y2_train, X2_test)\n",
    "r[0]"
   ]
  },
  {
   "cell_type": "code",
   "execution_count": 201,
   "id": "4f014d32",
   "metadata": {},
   "outputs": [],
   "source": [
    "# # Creating pickle file to save models' result from the training Dataset\n",
    "# with open('model_results2', 'wb') as file:\n",
    "#     pickle.dump(r, file)\n",
    "\n",
    "# # Calling the pickle file saved for model results\n",
    "# with open('model_results2', 'rb') as file:\n",
    "#     modelResults2 = pickle.load(file)"
   ]
  },
  {
   "cell_type": "code",
   "execution_count": null,
   "id": "5c9058a2",
   "metadata": {},
   "outputs": [],
   "source": [
    "# Dataframe of test predictions for the base models(8 models)\n",
    "pred_Ytest = pd.DataFrame(modelResults2[3][0]).T.reset_index()\n",
    "for i in range(1,8):\n",
    "    pred = pd.DataFrame(modelResults2[3][i]).T.reset_index()\n",
    "    pred_Ytest = pd.merge(pred_Ytest, pred, how = 'left', on = 'index')"
   ]
  },
  {
   "cell_type": "code",
   "execution_count": null,
   "id": "be9f35bf",
   "metadata": {},
   "outputs": [],
   "source": [
    "# Droping index columm, renaming the columns appropriately and adding true y_test\n",
    "pred_Ytest.drop([\"index\"], axis = 1, inplace = True)\n",
    "pred_Ytest.columns = ['Logic','LDA','CART','KNN', 'RF','ADA', 'GB', 'ETC']\n",
    "pred_Ytest['Ytest'] = pd.DataFrame(y2_test).reset_index(drop=True)\n",
    "pred_Ytest"
   ]
  },
  {
   "cell_type": "markdown",
   "id": "c801952e",
   "metadata": {},
   "source": [
    "### Plotting Confusion Matrices for test data using the three(3) best models on the training data"
   ]
  },
  {
   "cell_type": "code",
   "execution_count": 202,
   "id": "3a18223c",
   "metadata": {},
   "outputs": [],
   "source": [
    "## The best three models to confirm their performances on the test data\n",
    "models = []\n",
    "models.append(('GradientBoosting', GradientBoostingClassifier()))\n",
    "models.append(('RandomForest', RandomForestClassifier()))\n",
    "models.append(('ExtraTrees', ExtraTreesClassifier()))"
   ]
  },
  {
   "cell_type": "code",
   "execution_count": 203,
   "id": "0d0e66c7",
   "metadata": {
    "scrolled": true
   },
   "outputs": [
    {
     "data": {
      "image/png": "[encoded data removed]",
      "text/plain": [
       "<Figure size 576x432 with 2 Axes>"
      ]
     },
     "metadata": {},
     "output_type": "display_data"
    },
    {
     "name": "stdout",
     "output_type": "stream",
     "text": [
      "\n",
      "\n",
      "Classification Report:\n",
      "============================================================\n",
      "              precision    recall  f1-score   support\n",
      "\n",
      "           0   0.586412  0.677936  0.628861      3934\n",
      "           1   0.686841  0.877704  0.770631      7719\n",
      "           2   0.842764  0.641310  0.728364     11542\n",
      "\n",
      "    accuracy                       0.726191     23195\n",
      "   macro avg   0.705339  0.732317  0.709285     23195\n",
      "weighted avg   0.747396  0.726191  0.725554     23195\n",
      "\n"
     ]
    },
    {
     "data": {
      "image/png": "[encoded data removed]",
      "text/plain": [
       "<Figure size 576x432 with 2 Axes>"
      ]
     },
     "metadata": {},
     "output_type": "display_data"
    },
    {
     "name": "stdout",
     "output_type": "stream",
     "text": [
      "\n",
      "\n",
      "Classification Report:\n",
      "============================================================\n",
      "              precision    recall  f1-score   support\n",
      "\n",
      "           0   0.586364  0.655821  0.619150      3934\n",
      "           1   0.680917  0.881073  0.768171      7719\n",
      "           2   0.841490  0.642090  0.728390     11542\n",
      "\n",
      "    accuracy                       0.723949     23195\n",
      "   macro avg   0.702923  0.726328  0.705237     23195\n",
      "weighted avg   0.744782  0.723949  0.723101     23195\n",
      "\n"
     ]
    },
    {
     "data": {
      "image/png": "[encoded data removed]",
      "text/plain": [
       "<Figure size 576x432 with 2 Axes>"
      ]
     },
     "metadata": {},
     "output_type": "display_data"
    },
    {
     "name": "stdout",
     "output_type": "stream",
     "text": [
      "\n",
      "\n",
      "Classification Report:\n",
      "============================================================\n",
      "              precision    recall  f1-score   support\n",
      "\n",
      "           0   0.590083  0.635231  0.611825      3934\n",
      "           1   0.676122  0.880036  0.764719      7719\n",
      "           2   0.836194  0.645729  0.728722     11542\n",
      "\n",
      "    accuracy                       0.721923     23195\n",
      "   macro avg   0.700800  0.720332  0.701755     23195\n",
      "weighted avg   0.741182  0.721923  0.720875     23195\n",
      "\n"
     ]
    }
   ],
   "source": [
    "for name, model in models:   \n",
    "    ##Labeling the target feature classes\n",
    "    le = preprocessing.LabelEncoder()\n",
    "    y2_test = le.fit_transform(y2_test)\n",
    "    \n",
    "    ## Predicting with the best parameter\n",
    "    model = model.fit(X2_train, y2_train)\n",
    "    y2_pred = model.predict(X2_test) \n",
    "\n",
    "    ## plot the confusion matrix\n",
    "    plot_cm(y2_test,\n",
    "             le.inverse_transform(y2_pred),\n",
    "             le.classes_)\n",
    "    \n",
    "    ## Print Classification results\n",
    "    print()\n",
    "    print()\n",
    "    print('Classification Report:')\n",
    "    print('===' * 20)\n",
    "    #print(classification_report(y_test, y_pred))\n",
    "    cols = [str(classes) for classes in le.classes_]\n",
    "\n",
    "    print(classification_report(y2_test, y2_pred, target_names = cols, digits=6))"
   ]
  },
  {
   "cell_type": "code",
   "execution_count": 218,
   "id": "abe1b107",
   "metadata": {
    "scrolled": true
   },
   "outputs": [
    {
     "data": {
      "text/plain": [
       "{'ccp_alpha': 0.0,\n",
       " 'criterion': 'friedman_mse',\n",
       " 'init': None,\n",
       " 'learning_rate': 0.1,\n",
       " 'loss': 'deviance',\n",
       " 'max_depth': 3,\n",
       " 'max_features': None,\n",
       " 'max_leaf_nodes': None,\n",
       " 'min_impurity_decrease': 0.0,\n",
       " 'min_impurity_split': None,\n",
       " 'min_samples_leaf': 1,\n",
       " 'min_samples_split': 2,\n",
       " 'min_weight_fraction_leaf': 0.0,\n",
       " 'n_estimators': 100,\n",
       " 'n_iter_no_change': None,\n",
       " 'random_state': None,\n",
       " 'subsample': 1.0,\n",
       " 'tol': 0.0001,\n",
       " 'validation_fraction': 0.1,\n",
       " 'verbose': 0,\n",
       " 'warm_start': False}"
      ]
     },
     "execution_count": 218,
     "metadata": {},
     "output_type": "execute_result"
    }
   ],
   "source": [
    "## Model Parameter Tunning\n",
    "## Get the GradientBoosting model parameters\n",
    "GB_model = GradientBoostingClassifier()\n",
    "GB_model.get_params()"
   ]
  },
  {
   "cell_type": "code",
   "execution_count": 220,
   "id": "c388b011",
   "metadata": {},
   "outputs": [],
   "source": [
    "param_grid = {'ccp_alpha': [0.0],\n",
    "             'criterion': ['friedman_mse'], 'init': [None],'learning_rate': [0.1,0.3,0.4], 'loss': ['deviance'],\n",
    "              'max_depth': [3,5,10], 'max_features': [None,'sqrt', 'log2'], 'max_leaf_nodes':[None], 'min_impurity_decrease': [0.0],\n",
    "              'min_impurity_split': [None], 'min_samples_leaf': [1], 'min_samples_split': [2,5], 'min_weight_fraction_leaf':[0.0],\n",
    "              'n_estimators': [100], 'n_iter_no_change': [None], 'random_state': [10], 'subsample': [1.0, 0.8],'tol': [0.0001], \n",
    "              'validation_fraction': [0.1], 'verbose': [0],'warm_start': [False, True]\n",
    "             }\n",
    "grid = GridSearchCV(GB_model, param_grid = param_grid)\n",
    "grid.fit(X2_train, y2_train)"
   ]
  },
  {
   "cell_type": "code",
   "execution_count": null,
   "id": "b4a71f86",
   "metadata": {
    "scrolled": true
   },
   "outputs": [],
   "source": [
    "grid.best_params_ "
   ]
  },
  {
   "cell_type": "markdown",
   "id": "9417ce1d",
   "metadata": {},
   "source": [
    "###  Best Parameters\n",
    "{'ccp_alpha': 0.0,\n",
    " 'criterion': 'friedman_mse',\n",
    " 'init': None,\n",
    " 'learning_rate': 0.1,\n",
    " 'loss': 'deviance',\n",
    " 'max_depth': 3,\n",
    " 'max_features': 'sqrt',\n",
    " 'max_leaf_nodes': None,\n",
    " 'min_impurity_decrease': 0.0,\n",
    " 'min_impurity_split': None,\n",
    " 'min_samples_leaf': 1,\n",
    " 'min_samples_split': 2,\n",
    " 'min_weight_fraction_leaf': 0.0,\n",
    " 'n_estimators': 100,\n",
    " 'n_iter_no_change': None,\n",
    " 'random_state': 10,\n",
    " 'subsample': 0.8,\n",
    " 'tol': 0.0001,\n",
    " 'validation_fraction': 0.1,\n",
    " 'verbose': 0,\n",
    " 'warm_start': False}"
   ]
  },
  {
   "cell_type": "code",
   "execution_count": 206,
   "id": "c40dc411",
   "metadata": {},
   "outputs": [],
   "source": [
    "final_modelG2 = grid.best_estimator_\n",
    "#final_modelG2 = GradientBoostingClassifier(max_features = 'sqrt', random_state = 10, subsample= 0.8).fit(X2_train, y2_train)"
   ]
  },
  {
   "cell_type": "code",
   "execution_count": 207,
   "id": "021da18b",
   "metadata": {},
   "outputs": [],
   "source": [
    "# # Creating pickle file to save models' result from the training Dataset\n",
    "# with open('model_param', 'wb') as file:\n",
    "#     pickle.dump(final_modelG2, file)\n",
    "\n",
    "# # Calling the pickle file saved for model results\n",
    "# with open('model_param', 'rb') as file:\n",
    "#     modelParam = pickle.load(file)"
   ]
  },
  {
   "cell_type": "code",
   "execution_count": 208,
   "id": "52fd22cb",
   "metadata": {},
   "outputs": [
    {
     "data": {
      "image/png": "[encoded data removed]",
      "text/plain": [
       "<Figure size 576x432 with 2 Axes>"
      ]
     },
     "metadata": {},
     "output_type": "display_data"
    },
    {
     "name": "stdout",
     "output_type": "stream",
     "text": [
      "\n",
      "\n",
      "Classification Report:\n",
      "============================================================\n",
      "              precision    recall  f1-score   support\n",
      "\n",
      "           0   0.583786  0.682766  0.629408      3934\n",
      "           1   0.687709  0.877834  0.771227      7719\n",
      "           2   0.844640  0.639664  0.727999     11542\n",
      "\n",
      "    accuracy                       0.726234     23195\n",
      "   macro avg   0.705379  0.733421  0.709545     23195\n",
      "weighted avg   0.748173  0.726234  0.725663     23195\n",
      "\n"
     ]
    }
   ],
   "source": [
    "## Labeling the target feature classes\n",
    "le = preprocessing.LabelEncoder()\n",
    "y2_test = le.fit_transform(y2_test)\n",
    "\n",
    "## Predicting with the best parameter\n",
    "name = \"Gradient Boosting\"\n",
    "y2_pred = modelParam.predict(X2_test)\n",
    "\n",
    "## plot the confusion matrix\n",
    "plot_cm(y2_test, y2_pred, le.classes_)\n",
    "print()\n",
    "print()\n",
    "print('Classification Report:')\n",
    "print('===' * 20)\n",
    "#print(classification_report(y_test, y_pred))\n",
    "\n",
    "cols = [str(classes) for classes in le.classes_]\n",
    "\n",
    "print(classification_report(y2_test, y2_pred, target_names = cols, digits=6))"
   ]
  },
  {
   "cell_type": "markdown",
   "id": "b4ecdebf",
   "metadata": {},
   "source": [
    "### Predicting the new target feature for the dataset using the best parameter for Gradient Boosting model to compare the performance of the model to the bank's model"
   ]
  },
  {
   "cell_type": "code",
   "execution_count": 209,
   "id": "0d8dbeba",
   "metadata": {},
   "outputs": [],
   "source": [
    "model = GradientBoostingClassifier(max_features = 'sqrt', random_state = 10, subsample = 0.8).fit(X2, y2)\n",
    "credit_data4['New_loan_repaid'] = model.predict(X2)"
   ]
  },
  {
   "cell_type": "code",
   "execution_count": 210,
   "id": "9bc4f8a8",
   "metadata": {
    "scrolled": true
   },
   "outputs": [
    {
     "data": {
      "text/html": [
       "<div>\n",
       "<style scoped>\n",
       "    .dataframe tbody tr th:only-of-type {\n",
       "        vertical-align: middle;\n",
       "    }\n",
       "\n",
       "    .dataframe tbody tr th {\n",
       "        vertical-align: top;\n",
       "    }\n",
       "\n",
       "    .dataframe thead th {\n",
       "        text-align: right;\n",
       "    }\n",
       "</style>\n",
       "<table border=\"1\" class=\"dataframe\">\n",
       "  <thead>\n",
       "    <tr style=\"text-align: right;\">\n",
       "      <th></th>\n",
       "      <th>is_first_loan</th>\n",
       "      <th>TCC_Limit</th>\n",
       "      <th>Avg_CCL</th>\n",
       "      <th>saving_amount</th>\n",
       "      <th>checking_amount</th>\n",
       "      <th>is_employed</th>\n",
       "      <th>yearly_salary</th>\n",
       "      <th>age</th>\n",
       "      <th>dependent_number</th>\n",
       "      <th>loan_repaid</th>\n",
       "      <th>FRP_Loans_0</th>\n",
       "      <th>FRP_Loans_1</th>\n",
       "      <th>FRP_Loans_2</th>\n",
       "      <th>CRO_Loans_0</th>\n",
       "      <th>CRO_Loans_1</th>\n",
       "      <th>CRO_Loans_2</th>\n",
       "      <th>loan_purpose_business</th>\n",
       "      <th>loan_purpose_emergency_funds</th>\n",
       "      <th>loan_purpose_home</th>\n",
       "      <th>loan_purpose_investment</th>\n",
       "      <th>loan_purpose_other</th>\n",
       "      <th>New_loan_granted</th>\n",
       "      <th>New_loan_repaid</th>\n",
       "    </tr>\n",
       "  </thead>\n",
       "  <tbody>\n",
       "    <tr>\n",
       "      <th>0</th>\n",
       "      <td>1</td>\n",
       "      <td>0.576923</td>\n",
       "      <td>0.449541</td>\n",
       "      <td>0.308712</td>\n",
       "      <td>0.077161</td>\n",
       "      <td>0</td>\n",
       "      <td>0.000000</td>\n",
       "      <td>0.475410</td>\n",
       "      <td>0.375</td>\n",
       "      <td>2</td>\n",
       "      <td>0</td>\n",
       "      <td>0</td>\n",
       "      <td>1</td>\n",
       "      <td>0</td>\n",
       "      <td>0</td>\n",
       "      <td>1</td>\n",
       "      <td>1</td>\n",
       "      <td>0</td>\n",
       "      <td>0</td>\n",
       "      <td>0</td>\n",
       "      <td>0</td>\n",
       "      <td>0</td>\n",
       "      <td>2</td>\n",
       "    </tr>\n",
       "    <tr>\n",
       "      <th>1</th>\n",
       "      <td>0</td>\n",
       "      <td>0.307692</td>\n",
       "      <td>0.944954</td>\n",
       "      <td>0.059769</td>\n",
       "      <td>0.381059</td>\n",
       "      <td>1</td>\n",
       "      <td>0.138889</td>\n",
       "      <td>0.245902</td>\n",
       "      <td>0.125</td>\n",
       "      <td>2</td>\n",
       "      <td>0</td>\n",
       "      <td>1</td>\n",
       "      <td>0</td>\n",
       "      <td>1</td>\n",
       "      <td>0</td>\n",
       "      <td>0</td>\n",
       "      <td>0</td>\n",
       "      <td>0</td>\n",
       "      <td>0</td>\n",
       "      <td>1</td>\n",
       "      <td>0</td>\n",
       "      <td>0</td>\n",
       "      <td>2</td>\n",
       "    </tr>\n",
       "    <tr>\n",
       "      <th>2</th>\n",
       "      <td>1</td>\n",
       "      <td>0.492308</td>\n",
       "      <td>0.752294</td>\n",
       "      <td>0.195940</td>\n",
       "      <td>0.246081</td>\n",
       "      <td>1</td>\n",
       "      <td>0.252058</td>\n",
       "      <td>0.327869</td>\n",
       "      <td>1.000</td>\n",
       "      <td>1</td>\n",
       "      <td>0</td>\n",
       "      <td>0</td>\n",
       "      <td>1</td>\n",
       "      <td>0</td>\n",
       "      <td>0</td>\n",
       "      <td>1</td>\n",
       "      <td>0</td>\n",
       "      <td>0</td>\n",
       "      <td>0</td>\n",
       "      <td>0</td>\n",
       "      <td>1</td>\n",
       "      <td>1</td>\n",
       "      <td>1</td>\n",
       "    </tr>\n",
       "    <tr>\n",
       "      <th>3</th>\n",
       "      <td>0</td>\n",
       "      <td>0.053846</td>\n",
       "      <td>0.752294</td>\n",
       "      <td>0.033643</td>\n",
       "      <td>0.243636</td>\n",
       "      <td>0</td>\n",
       "      <td>0.000000</td>\n",
       "      <td>0.098361</td>\n",
       "      <td>0.125</td>\n",
       "      <td>2</td>\n",
       "      <td>0</td>\n",
       "      <td>1</td>\n",
       "      <td>0</td>\n",
       "      <td>1</td>\n",
       "      <td>0</td>\n",
       "      <td>0</td>\n",
       "      <td>0</td>\n",
       "      <td>0</td>\n",
       "      <td>0</td>\n",
       "      <td>1</td>\n",
       "      <td>0</td>\n",
       "      <td>0</td>\n",
       "      <td>2</td>\n",
       "    </tr>\n",
       "    <tr>\n",
       "      <th>4</th>\n",
       "      <td>0</td>\n",
       "      <td>0.492308</td>\n",
       "      <td>0.733945</td>\n",
       "      <td>0.200921</td>\n",
       "      <td>0.307925</td>\n",
       "      <td>1</td>\n",
       "      <td>0.186214</td>\n",
       "      <td>0.295082</td>\n",
       "      <td>0.125</td>\n",
       "      <td>2</td>\n",
       "      <td>1</td>\n",
       "      <td>0</td>\n",
       "      <td>0</td>\n",
       "      <td>1</td>\n",
       "      <td>0</td>\n",
       "      <td>0</td>\n",
       "      <td>0</td>\n",
       "      <td>1</td>\n",
       "      <td>0</td>\n",
       "      <td>0</td>\n",
       "      <td>0</td>\n",
       "      <td>1</td>\n",
       "      <td>1</td>\n",
       "    </tr>\n",
       "  </tbody>\n",
       "</table>\n",
       "</div>"
      ],
      "text/plain": [
       "  is_first_loan  TCC_Limit   Avg_CCL  saving_amount  checking_amount  \\\n",
       "0             1   0.576923  0.449541       0.308712         0.077161   \n",
       "1             0   0.307692  0.944954       0.059769         0.381059   \n",
       "2             1   0.492308  0.752294       0.195940         0.246081   \n",
       "3             0   0.053846  0.752294       0.033643         0.243636   \n",
       "4             0   0.492308  0.733945       0.200921         0.307925   \n",
       "\n",
       "  is_employed  yearly_salary       age  dependent_number loan_repaid  \\\n",
       "0           0       0.000000  0.475410             0.375           2   \n",
       "1           1       0.138889  0.245902             0.125           2   \n",
       "2           1       0.252058  0.327869             1.000           1   \n",
       "3           0       0.000000  0.098361             0.125           2   \n",
       "4           1       0.186214  0.295082             0.125           2   \n",
       "\n",
       "   FRP_Loans_0  FRP_Loans_1  FRP_Loans_2  CRO_Loans_0  CRO_Loans_1  \\\n",
       "0            0            0            1            0            0   \n",
       "1            0            1            0            1            0   \n",
       "2            0            0            1            0            0   \n",
       "3            0            1            0            1            0   \n",
       "4            1            0            0            1            0   \n",
       "\n",
       "   CRO_Loans_2  loan_purpose_business  loan_purpose_emergency_funds  \\\n",
       "0            1                      1                             0   \n",
       "1            0                      0                             0   \n",
       "2            1                      0                             0   \n",
       "3            0                      0                             0   \n",
       "4            0                      0                             1   \n",
       "\n",
       "   loan_purpose_home  loan_purpose_investment  loan_purpose_other  \\\n",
       "0                  0                        0                   0   \n",
       "1                  0                        1                   0   \n",
       "2                  0                        0                   1   \n",
       "3                  0                        1                   0   \n",
       "4                  0                        0                   0   \n",
       "\n",
       "   New_loan_granted  New_loan_repaid  \n",
       "0                 0                2  \n",
       "1                 0                2  \n",
       "2                 1                1  \n",
       "3                 0                2  \n",
       "4                 1                1  "
      ]
     },
     "execution_count": 210,
     "metadata": {},
     "output_type": "execute_result"
    }
   ],
   "source": [
    "credit_data4.head()"
   ]
  },
  {
   "cell_type": "code",
   "execution_count": 216,
   "id": "a406bb3d",
   "metadata": {},
   "outputs": [
    {
     "data": {
      "text/plain": [
       "1    39529\n",
       "2    34488\n",
       "0    18763\n",
       "Name: New_loan_repaid, dtype: int64"
      ]
     },
     "execution_count": 216,
     "metadata": {},
     "output_type": "execute_result"
    }
   ],
   "source": [
    "credit_data4[\"New_loan_repaid\"].value_counts()"
   ]
  },
  {
   "cell_type": "code",
   "execution_count": 211,
   "id": "4c34e12f",
   "metadata": {},
   "outputs": [],
   "source": [
    "## Creating new dataframe to confirm the profitability of the model with the Bank model\n",
    "repayment_score = credit_data4[[\"loan_repaid\", \"New_loan_repaid\"]]"
   ]
  },
  {
   "cell_type": "code",
   "execution_count": 212,
   "id": "cc8d6842",
   "metadata": {},
   "outputs": [],
   "source": [
    "repayment_score[\"loan_repaid_score\"] = repayment_score[\"loan_repaid\"]\n",
    "repayment_score[\"New_loan_repaid_score\"] = repayment_score[\"New_loan_repaid\"]\n",
    "repayment_score[\"loan_repaid_score\"] = repayment_score[\"loan_repaid_score\"].astype(\"str\").astype(int)"
   ]
  },
  {
   "cell_type": "code",
   "execution_count": 213,
   "id": "0ba14c73",
   "metadata": {},
   "outputs": [],
   "source": [
    "cols = [\"loan_repaid_score\", \"New_loan_repaid_score\"]\n",
    "for col in cols:\n",
    "    repayment_score[col].replace([0,1,2], [-1,1,0], inplace=True)"
   ]
  },
  {
   "cell_type": "code",
   "execution_count": 214,
   "id": "8b0065cb",
   "metadata": {
    "scrolled": true
   },
   "outputs": [
    {
     "data": {
      "text/html": [
       "<div>\n",
       "<style scoped>\n",
       "    .dataframe tbody tr th:only-of-type {\n",
       "        vertical-align: middle;\n",
       "    }\n",
       "\n",
       "    .dataframe tbody tr th {\n",
       "        vertical-align: top;\n",
       "    }\n",
       "\n",
       "    .dataframe thead th {\n",
       "        text-align: right;\n",
       "    }\n",
       "</style>\n",
       "<table border=\"1\" class=\"dataframe\">\n",
       "  <thead>\n",
       "    <tr style=\"text-align: right;\">\n",
       "      <th></th>\n",
       "      <th>loan_repaid</th>\n",
       "      <th>New_loan_repaid</th>\n",
       "      <th>loan_repaid_score</th>\n",
       "      <th>New_loan_repaid_score</th>\n",
       "    </tr>\n",
       "  </thead>\n",
       "  <tbody>\n",
       "    <tr>\n",
       "      <th>0</th>\n",
       "      <td>2</td>\n",
       "      <td>2</td>\n",
       "      <td>0</td>\n",
       "      <td>0</td>\n",
       "    </tr>\n",
       "    <tr>\n",
       "      <th>1</th>\n",
       "      <td>2</td>\n",
       "      <td>2</td>\n",
       "      <td>0</td>\n",
       "      <td>0</td>\n",
       "    </tr>\n",
       "    <tr>\n",
       "      <th>2</th>\n",
       "      <td>1</td>\n",
       "      <td>1</td>\n",
       "      <td>1</td>\n",
       "      <td>1</td>\n",
       "    </tr>\n",
       "    <tr>\n",
       "      <th>3</th>\n",
       "      <td>2</td>\n",
       "      <td>2</td>\n",
       "      <td>0</td>\n",
       "      <td>0</td>\n",
       "    </tr>\n",
       "    <tr>\n",
       "      <th>4</th>\n",
       "      <td>2</td>\n",
       "      <td>1</td>\n",
       "      <td>0</td>\n",
       "      <td>1</td>\n",
       "    </tr>\n",
       "    <tr>\n",
       "      <th>5</th>\n",
       "      <td>1</td>\n",
       "      <td>1</td>\n",
       "      <td>1</td>\n",
       "      <td>1</td>\n",
       "    </tr>\n",
       "    <tr>\n",
       "      <th>6</th>\n",
       "      <td>2</td>\n",
       "      <td>2</td>\n",
       "      <td>0</td>\n",
       "      <td>0</td>\n",
       "    </tr>\n",
       "    <tr>\n",
       "      <th>7</th>\n",
       "      <td>0</td>\n",
       "      <td>0</td>\n",
       "      <td>-1</td>\n",
       "      <td>-1</td>\n",
       "    </tr>\n",
       "    <tr>\n",
       "      <th>8</th>\n",
       "      <td>1</td>\n",
       "      <td>1</td>\n",
       "      <td>1</td>\n",
       "      <td>1</td>\n",
       "    </tr>\n",
       "    <tr>\n",
       "      <th>9</th>\n",
       "      <td>1</td>\n",
       "      <td>0</td>\n",
       "      <td>1</td>\n",
       "      <td>-1</td>\n",
       "    </tr>\n",
       "    <tr>\n",
       "      <th>10</th>\n",
       "      <td>1</td>\n",
       "      <td>2</td>\n",
       "      <td>1</td>\n",
       "      <td>0</td>\n",
       "    </tr>\n",
       "    <tr>\n",
       "      <th>11</th>\n",
       "      <td>1</td>\n",
       "      <td>1</td>\n",
       "      <td>1</td>\n",
       "      <td>1</td>\n",
       "    </tr>\n",
       "    <tr>\n",
       "      <th>12</th>\n",
       "      <td>1</td>\n",
       "      <td>0</td>\n",
       "      <td>1</td>\n",
       "      <td>-1</td>\n",
       "    </tr>\n",
       "    <tr>\n",
       "      <th>13</th>\n",
       "      <td>2</td>\n",
       "      <td>1</td>\n",
       "      <td>0</td>\n",
       "      <td>1</td>\n",
       "    </tr>\n",
       "    <tr>\n",
       "      <th>14</th>\n",
       "      <td>2</td>\n",
       "      <td>2</td>\n",
       "      <td>0</td>\n",
       "      <td>0</td>\n",
       "    </tr>\n",
       "    <tr>\n",
       "      <th>15</th>\n",
       "      <td>1</td>\n",
       "      <td>0</td>\n",
       "      <td>1</td>\n",
       "      <td>-1</td>\n",
       "    </tr>\n",
       "    <tr>\n",
       "      <th>16</th>\n",
       "      <td>1</td>\n",
       "      <td>1</td>\n",
       "      <td>1</td>\n",
       "      <td>1</td>\n",
       "    </tr>\n",
       "    <tr>\n",
       "      <th>17</th>\n",
       "      <td>2</td>\n",
       "      <td>2</td>\n",
       "      <td>0</td>\n",
       "      <td>0</td>\n",
       "    </tr>\n",
       "    <tr>\n",
       "      <th>18</th>\n",
       "      <td>2</td>\n",
       "      <td>2</td>\n",
       "      <td>0</td>\n",
       "      <td>0</td>\n",
       "    </tr>\n",
       "    <tr>\n",
       "      <th>19</th>\n",
       "      <td>2</td>\n",
       "      <td>1</td>\n",
       "      <td>0</td>\n",
       "      <td>1</td>\n",
       "    </tr>\n",
       "  </tbody>\n",
       "</table>\n",
       "</div>"
      ],
      "text/plain": [
       "   loan_repaid  New_loan_repaid  loan_repaid_score  New_loan_repaid_score\n",
       "0            2                2                  0                      0\n",
       "1            2                2                  0                      0\n",
       "2            1                1                  1                      1\n",
       "3            2                2                  0                      0\n",
       "4            2                1                  0                      1\n",
       "5            1                1                  1                      1\n",
       "6            2                2                  0                      0\n",
       "7            0                0                 -1                     -1\n",
       "8            1                1                  1                      1\n",
       "9            1                0                  1                     -1\n",
       "10           1                2                  1                      0\n",
       "11           1                1                  1                      1\n",
       "12           1                0                  1                     -1\n",
       "13           2                1                  0                      1\n",
       "14           2                2                  0                      0\n",
       "15           1                0                  1                     -1\n",
       "16           1                1                  1                      1\n",
       "17           2                2                  0                      0\n",
       "18           2                2                  0                      0\n",
       "19           2                1                  0                      1"
      ]
     },
     "execution_count": 214,
     "metadata": {},
     "output_type": "execute_result"
    }
   ],
   "source": [
    "repayment_score.head(20)"
   ]
  },
  {
   "cell_type": "code",
   "execution_count": 215,
   "id": "b0bd6756",
   "metadata": {
    "scrolled": false
   },
   "outputs": [
    {
     "name": "stdout",
     "output_type": "stream",
     "text": [
      "20766\n",
      "14454\n"
     ]
    }
   ],
   "source": [
    "print(repayment_score[\"New_loan_repaid_score\"].sum())\n",
    "print(repayment_score[\"loan_repaid_score\"].sum())"
   ]
  },
  {
   "cell_type": "code",
   "execution_count": null,
   "id": "d5326b82",
   "metadata": {},
   "outputs": [],
   "source": [
    "### END ###"
   ]
  },
  {
   "cell_type": "code",
   "execution_count": null,
   "id": "2e00851d",
   "metadata": {},
   "outputs": [],
   "source": []
  }
 ],
 "metadata": {
  "kernelspec": {
   "display_name": "Python 3",
   "language": "python",
   "name": "python3"
  },
  "language_info": {
   "codemirror_mode": {
    "name": "ipython",
    "version": 3
   },
   "file_extension": ".py",
   "mimetype": "text/x-python",
   "name": "python",
   "nbconvert_exporter": "python",
   "pygments_lexer": "ipython3",
   "version": "3.8.8"
  }
 },
 "nbformat": 4,
 "nbformat_minor": 5
}
